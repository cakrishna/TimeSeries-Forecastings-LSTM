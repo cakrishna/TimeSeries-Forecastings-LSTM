{
  "cells": [
    {
      "cell_type": "markdown",
      "metadata": {},
      "source": [
        "## LSTM climate data"
      ]
    },
    {
      "cell_type": "code",
      "execution_count": 1,
      "metadata": {
        "id": "EbrFD1vMR_qS"
      },
      "outputs": [
        {
          "name": "stderr",
          "output_type": "stream",
          "text": [
            "2024-12-19 16:33:21.239817: E external/local_xla/xla/stream_executor/cuda/cuda_dnn.cc:9261] Unable to register cuDNN factory: Attempting to register factory for plugin cuDNN when one has already been registered\n",
            "2024-12-19 16:33:21.239968: E external/local_xla/xla/stream_executor/cuda/cuda_fft.cc:607] Unable to register cuFFT factory: Attempting to register factory for plugin cuFFT when one has already been registered\n",
            "2024-12-19 16:33:21.289108: E external/local_xla/xla/stream_executor/cuda/cuda_blas.cc:1515] Unable to register cuBLAS factory: Attempting to register factory for plugin cuBLAS when one has already been registered\n",
            "2024-12-19 16:33:21.390405: I tensorflow/core/platform/cpu_feature_guard.cc:182] This TensorFlow binary is optimized to use available CPU instructions in performance-critical operations.\n",
            "To enable the following instructions: AVX2 FMA, in other operations, rebuild TensorFlow with the appropriate compiler flags.\n",
            "2024-12-19 16:33:22.728343: W tensorflow/compiler/tf2tensorrt/utils/py_utils.cc:38] TF-TRT Warning: Could not find TensorRT\n"
          ]
        }
      ],
      "source": [
        "import tensorflow as tf\n",
        "import os\n",
        "import pandas as pd\n",
        "import numpy as np"
      ]
    },
    {
      "cell_type": "code",
      "execution_count": 2,
      "metadata": {
        "colab": {
          "base_uri": "https://localhost:8080/"
        },
        "id": "1q73lN27SDPC",
        "outputId": "e1f0eac0-188c-4d21-8b46-81a2999b2cbf"
      },
      "outputs": [
        {
          "name": "stdout",
          "output_type": "stream",
          "text": [
            "Downloading data from https://storage.googleapis.com/tensorflow/tf-keras-datasets/jena_climate_2009_2016.csv.zip\n",
            "13568290/13568290 [==============================] - 2s 0us/step\n"
          ]
        }
      ],
      "source": [
        "zip_path = tf.keras.utils.get_file(\n",
        "    origin='https://storage.googleapis.com/tensorflow/tf-keras-datasets/jena_climate_2009_2016.csv.zip',\n",
        "    fname='jena_climate_2009_2016.csv.zip',\n",
        "    extract=True)\n",
        "csv_path, _ = os.path.splitext(zip_path)"
      ]
    },
    {
      "cell_type": "code",
      "execution_count": 3,
      "metadata": {
        "colab": {
          "base_uri": "https://localhost:8080/",
          "height": 632
        },
        "id": "RRVN-4QOSKAx",
        "outputId": "7fe7489b-43dc-41c8-fe7c-6f57d7942a91"
      },
      "outputs": [
        {
          "data": {
            "text/html": [
              "<div>\n",
              "<style scoped>\n",
              "    .dataframe tbody tr th:only-of-type {\n",
              "        vertical-align: middle;\n",
              "    }\n",
              "\n",
              "    .dataframe tbody tr th {\n",
              "        vertical-align: top;\n",
              "    }\n",
              "\n",
              "    .dataframe thead th {\n",
              "        text-align: right;\n",
              "    }\n",
              "</style>\n",
              "<table border=\"1\" class=\"dataframe\">\n",
              "  <thead>\n",
              "    <tr style=\"text-align: right;\">\n",
              "      <th></th>\n",
              "      <th>Date Time</th>\n",
              "      <th>p (mbar)</th>\n",
              "      <th>T (degC)</th>\n",
              "      <th>Tpot (K)</th>\n",
              "      <th>Tdew (degC)</th>\n",
              "      <th>rh (%)</th>\n",
              "      <th>VPmax (mbar)</th>\n",
              "      <th>VPact (mbar)</th>\n",
              "      <th>VPdef (mbar)</th>\n",
              "      <th>sh (g/kg)</th>\n",
              "      <th>H2OC (mmol/mol)</th>\n",
              "      <th>rho (g/m**3)</th>\n",
              "      <th>wv (m/s)</th>\n",
              "      <th>max. wv (m/s)</th>\n",
              "      <th>wd (deg)</th>\n",
              "    </tr>\n",
              "  </thead>\n",
              "  <tbody>\n",
              "    <tr>\n",
              "      <th>0</th>\n",
              "      <td>01.01.2009 00:10:00</td>\n",
              "      <td>996.52</td>\n",
              "      <td>-8.02</td>\n",
              "      <td>265.40</td>\n",
              "      <td>-8.90</td>\n",
              "      <td>93.30</td>\n",
              "      <td>3.33</td>\n",
              "      <td>3.11</td>\n",
              "      <td>0.22</td>\n",
              "      <td>1.94</td>\n",
              "      <td>3.12</td>\n",
              "      <td>1307.75</td>\n",
              "      <td>1.03</td>\n",
              "      <td>1.75</td>\n",
              "      <td>152.3</td>\n",
              "    </tr>\n",
              "    <tr>\n",
              "      <th>1</th>\n",
              "      <td>01.01.2009 00:20:00</td>\n",
              "      <td>996.57</td>\n",
              "      <td>-8.41</td>\n",
              "      <td>265.01</td>\n",
              "      <td>-9.28</td>\n",
              "      <td>93.40</td>\n",
              "      <td>3.23</td>\n",
              "      <td>3.02</td>\n",
              "      <td>0.21</td>\n",
              "      <td>1.89</td>\n",
              "      <td>3.03</td>\n",
              "      <td>1309.80</td>\n",
              "      <td>0.72</td>\n",
              "      <td>1.50</td>\n",
              "      <td>136.1</td>\n",
              "    </tr>\n",
              "    <tr>\n",
              "      <th>2</th>\n",
              "      <td>01.01.2009 00:30:00</td>\n",
              "      <td>996.53</td>\n",
              "      <td>-8.51</td>\n",
              "      <td>264.91</td>\n",
              "      <td>-9.31</td>\n",
              "      <td>93.90</td>\n",
              "      <td>3.21</td>\n",
              "      <td>3.01</td>\n",
              "      <td>0.20</td>\n",
              "      <td>1.88</td>\n",
              "      <td>3.02</td>\n",
              "      <td>1310.24</td>\n",
              "      <td>0.19</td>\n",
              "      <td>0.63</td>\n",
              "      <td>171.6</td>\n",
              "    </tr>\n",
              "    <tr>\n",
              "      <th>3</th>\n",
              "      <td>01.01.2009 00:40:00</td>\n",
              "      <td>996.51</td>\n",
              "      <td>-8.31</td>\n",
              "      <td>265.12</td>\n",
              "      <td>-9.07</td>\n",
              "      <td>94.20</td>\n",
              "      <td>3.26</td>\n",
              "      <td>3.07</td>\n",
              "      <td>0.19</td>\n",
              "      <td>1.92</td>\n",
              "      <td>3.08</td>\n",
              "      <td>1309.19</td>\n",
              "      <td>0.34</td>\n",
              "      <td>0.50</td>\n",
              "      <td>198.0</td>\n",
              "    </tr>\n",
              "    <tr>\n",
              "      <th>4</th>\n",
              "      <td>01.01.2009 00:50:00</td>\n",
              "      <td>996.51</td>\n",
              "      <td>-8.27</td>\n",
              "      <td>265.15</td>\n",
              "      <td>-9.04</td>\n",
              "      <td>94.10</td>\n",
              "      <td>3.27</td>\n",
              "      <td>3.08</td>\n",
              "      <td>0.19</td>\n",
              "      <td>1.92</td>\n",
              "      <td>3.09</td>\n",
              "      <td>1309.00</td>\n",
              "      <td>0.32</td>\n",
              "      <td>0.63</td>\n",
              "      <td>214.3</td>\n",
              "    </tr>\n",
              "    <tr>\n",
              "      <th>...</th>\n",
              "      <td>...</td>\n",
              "      <td>...</td>\n",
              "      <td>...</td>\n",
              "      <td>...</td>\n",
              "      <td>...</td>\n",
              "      <td>...</td>\n",
              "      <td>...</td>\n",
              "      <td>...</td>\n",
              "      <td>...</td>\n",
              "      <td>...</td>\n",
              "      <td>...</td>\n",
              "      <td>...</td>\n",
              "      <td>...</td>\n",
              "      <td>...</td>\n",
              "      <td>...</td>\n",
              "    </tr>\n",
              "    <tr>\n",
              "      <th>420546</th>\n",
              "      <td>31.12.2016 23:20:00</td>\n",
              "      <td>1000.07</td>\n",
              "      <td>-4.05</td>\n",
              "      <td>269.10</td>\n",
              "      <td>-8.13</td>\n",
              "      <td>73.10</td>\n",
              "      <td>4.52</td>\n",
              "      <td>3.30</td>\n",
              "      <td>1.22</td>\n",
              "      <td>2.06</td>\n",
              "      <td>3.30</td>\n",
              "      <td>1292.98</td>\n",
              "      <td>0.67</td>\n",
              "      <td>1.52</td>\n",
              "      <td>240.0</td>\n",
              "    </tr>\n",
              "    <tr>\n",
              "      <th>420547</th>\n",
              "      <td>31.12.2016 23:30:00</td>\n",
              "      <td>999.93</td>\n",
              "      <td>-3.35</td>\n",
              "      <td>269.81</td>\n",
              "      <td>-8.06</td>\n",
              "      <td>69.71</td>\n",
              "      <td>4.77</td>\n",
              "      <td>3.32</td>\n",
              "      <td>1.44</td>\n",
              "      <td>2.07</td>\n",
              "      <td>3.32</td>\n",
              "      <td>1289.44</td>\n",
              "      <td>1.14</td>\n",
              "      <td>1.92</td>\n",
              "      <td>234.3</td>\n",
              "    </tr>\n",
              "    <tr>\n",
              "      <th>420548</th>\n",
              "      <td>31.12.2016 23:40:00</td>\n",
              "      <td>999.82</td>\n",
              "      <td>-3.16</td>\n",
              "      <td>270.01</td>\n",
              "      <td>-8.21</td>\n",
              "      <td>67.91</td>\n",
              "      <td>4.84</td>\n",
              "      <td>3.28</td>\n",
              "      <td>1.55</td>\n",
              "      <td>2.05</td>\n",
              "      <td>3.28</td>\n",
              "      <td>1288.39</td>\n",
              "      <td>1.08</td>\n",
              "      <td>2.00</td>\n",
              "      <td>215.2</td>\n",
              "    </tr>\n",
              "    <tr>\n",
              "      <th>420549</th>\n",
              "      <td>31.12.2016 23:50:00</td>\n",
              "      <td>999.81</td>\n",
              "      <td>-4.23</td>\n",
              "      <td>268.94</td>\n",
              "      <td>-8.53</td>\n",
              "      <td>71.80</td>\n",
              "      <td>4.46</td>\n",
              "      <td>3.20</td>\n",
              "      <td>1.26</td>\n",
              "      <td>1.99</td>\n",
              "      <td>3.20</td>\n",
              "      <td>1293.56</td>\n",
              "      <td>1.49</td>\n",
              "      <td>2.16</td>\n",
              "      <td>225.8</td>\n",
              "    </tr>\n",
              "    <tr>\n",
              "      <th>420550</th>\n",
              "      <td>01.01.2017 00:00:00</td>\n",
              "      <td>999.82</td>\n",
              "      <td>-4.82</td>\n",
              "      <td>268.36</td>\n",
              "      <td>-8.42</td>\n",
              "      <td>75.70</td>\n",
              "      <td>4.27</td>\n",
              "      <td>3.23</td>\n",
              "      <td>1.04</td>\n",
              "      <td>2.01</td>\n",
              "      <td>3.23</td>\n",
              "      <td>1296.38</td>\n",
              "      <td>1.23</td>\n",
              "      <td>1.96</td>\n",
              "      <td>184.9</td>\n",
              "    </tr>\n",
              "  </tbody>\n",
              "</table>\n",
              "<p>420551 rows × 15 columns</p>\n",
              "</div>"
            ],
            "text/plain": [
              "                  Date Time  p (mbar)  T (degC)  Tpot (K)  Tdew (degC)  \\\n",
              "0       01.01.2009 00:10:00    996.52     -8.02    265.40        -8.90   \n",
              "1       01.01.2009 00:20:00    996.57     -8.41    265.01        -9.28   \n",
              "2       01.01.2009 00:30:00    996.53     -8.51    264.91        -9.31   \n",
              "3       01.01.2009 00:40:00    996.51     -8.31    265.12        -9.07   \n",
              "4       01.01.2009 00:50:00    996.51     -8.27    265.15        -9.04   \n",
              "...                     ...       ...       ...       ...          ...   \n",
              "420546  31.12.2016 23:20:00   1000.07     -4.05    269.10        -8.13   \n",
              "420547  31.12.2016 23:30:00    999.93     -3.35    269.81        -8.06   \n",
              "420548  31.12.2016 23:40:00    999.82     -3.16    270.01        -8.21   \n",
              "420549  31.12.2016 23:50:00    999.81     -4.23    268.94        -8.53   \n",
              "420550  01.01.2017 00:00:00    999.82     -4.82    268.36        -8.42   \n",
              "\n",
              "        rh (%)  VPmax (mbar)  VPact (mbar)  VPdef (mbar)  sh (g/kg)  \\\n",
              "0        93.30          3.33          3.11          0.22       1.94   \n",
              "1        93.40          3.23          3.02          0.21       1.89   \n",
              "2        93.90          3.21          3.01          0.20       1.88   \n",
              "3        94.20          3.26          3.07          0.19       1.92   \n",
              "4        94.10          3.27          3.08          0.19       1.92   \n",
              "...        ...           ...           ...           ...        ...   \n",
              "420546   73.10          4.52          3.30          1.22       2.06   \n",
              "420547   69.71          4.77          3.32          1.44       2.07   \n",
              "420548   67.91          4.84          3.28          1.55       2.05   \n",
              "420549   71.80          4.46          3.20          1.26       1.99   \n",
              "420550   75.70          4.27          3.23          1.04       2.01   \n",
              "\n",
              "        H2OC (mmol/mol)  rho (g/m**3)  wv (m/s)  max. wv (m/s)  wd (deg)  \n",
              "0                  3.12       1307.75      1.03           1.75     152.3  \n",
              "1                  3.03       1309.80      0.72           1.50     136.1  \n",
              "2                  3.02       1310.24      0.19           0.63     171.6  \n",
              "3                  3.08       1309.19      0.34           0.50     198.0  \n",
              "4                  3.09       1309.00      0.32           0.63     214.3  \n",
              "...                 ...           ...       ...            ...       ...  \n",
              "420546             3.30       1292.98      0.67           1.52     240.0  \n",
              "420547             3.32       1289.44      1.14           1.92     234.3  \n",
              "420548             3.28       1288.39      1.08           2.00     215.2  \n",
              "420549             3.20       1293.56      1.49           2.16     225.8  \n",
              "420550             3.23       1296.38      1.23           1.96     184.9  \n",
              "\n",
              "[420551 rows x 15 columns]"
            ]
          },
          "execution_count": 3,
          "metadata": {},
          "output_type": "execute_result"
        }
      ],
      "source": [
        "df = pd.read_csv(csv_path)\n",
        "df"
      ]
    },
    {
      "cell_type": "code",
      "execution_count": null,
      "metadata": {
        "colab": {
          "base_uri": "https://localhost:8080/",
          "height": 602
        },
        "id": "FDJTiftYSPGj",
        "outputId": "f157f680-baef-4443-ff0f-92803bff3ca6"
      },
      "outputs": [
        {
          "data": {
            "text/html": [
              "<div>\n",
              "<style scoped>\n",
              "    .dataframe tbody tr th:only-of-type {\n",
              "        vertical-align: middle;\n",
              "    }\n",
              "\n",
              "    .dataframe tbody tr th {\n",
              "        vertical-align: top;\n",
              "    }\n",
              "\n",
              "    .dataframe thead th {\n",
              "        text-align: right;\n",
              "    }\n",
              "</style>\n",
              "<table border=\"1\" class=\"dataframe\">\n",
              "  <thead>\n",
              "    <tr style=\"text-align: right;\">\n",
              "      <th></th>\n",
              "      <th>Date Time</th>\n",
              "      <th>p (mbar)</th>\n",
              "      <th>T (degC)</th>\n",
              "      <th>Tpot (K)</th>\n",
              "      <th>Tdew (degC)</th>\n",
              "      <th>rh (%)</th>\n",
              "      <th>VPmax (mbar)</th>\n",
              "      <th>VPact (mbar)</th>\n",
              "      <th>VPdef (mbar)</th>\n",
              "      <th>sh (g/kg)</th>\n",
              "      <th>H2OC (mmol/mol)</th>\n",
              "      <th>rho (g/m**3)</th>\n",
              "      <th>wv (m/s)</th>\n",
              "      <th>max. wv (m/s)</th>\n",
              "      <th>wd (deg)</th>\n",
              "    </tr>\n",
              "  </thead>\n",
              "  <tbody>\n",
              "    <tr>\n",
              "      <th>5</th>\n",
              "      <td>01.01.2009 01:00:00</td>\n",
              "      <td>996.50</td>\n",
              "      <td>-8.05</td>\n",
              "      <td>265.38</td>\n",
              "      <td>-8.78</td>\n",
              "      <td>94.40</td>\n",
              "      <td>3.33</td>\n",
              "      <td>3.14</td>\n",
              "      <td>0.19</td>\n",
              "      <td>1.96</td>\n",
              "      <td>3.15</td>\n",
              "      <td>1307.86</td>\n",
              "      <td>0.21</td>\n",
              "      <td>0.63</td>\n",
              "      <td>192.7</td>\n",
              "    </tr>\n",
              "    <tr>\n",
              "      <th>11</th>\n",
              "      <td>01.01.2009 02:00:00</td>\n",
              "      <td>996.62</td>\n",
              "      <td>-8.88</td>\n",
              "      <td>264.54</td>\n",
              "      <td>-9.77</td>\n",
              "      <td>93.20</td>\n",
              "      <td>3.12</td>\n",
              "      <td>2.90</td>\n",
              "      <td>0.21</td>\n",
              "      <td>1.81</td>\n",
              "      <td>2.91</td>\n",
              "      <td>1312.25</td>\n",
              "      <td>0.25</td>\n",
              "      <td>0.63</td>\n",
              "      <td>190.3</td>\n",
              "    </tr>\n",
              "    <tr>\n",
              "      <th>17</th>\n",
              "      <td>01.01.2009 03:00:00</td>\n",
              "      <td>996.84</td>\n",
              "      <td>-8.81</td>\n",
              "      <td>264.59</td>\n",
              "      <td>-9.66</td>\n",
              "      <td>93.50</td>\n",
              "      <td>3.13</td>\n",
              "      <td>2.93</td>\n",
              "      <td>0.20</td>\n",
              "      <td>1.83</td>\n",
              "      <td>2.94</td>\n",
              "      <td>1312.18</td>\n",
              "      <td>0.18</td>\n",
              "      <td>0.63</td>\n",
              "      <td>167.2</td>\n",
              "    </tr>\n",
              "    <tr>\n",
              "      <th>23</th>\n",
              "      <td>01.01.2009 04:00:00</td>\n",
              "      <td>996.99</td>\n",
              "      <td>-9.05</td>\n",
              "      <td>264.34</td>\n",
              "      <td>-10.02</td>\n",
              "      <td>92.60</td>\n",
              "      <td>3.07</td>\n",
              "      <td>2.85</td>\n",
              "      <td>0.23</td>\n",
              "      <td>1.78</td>\n",
              "      <td>2.85</td>\n",
              "      <td>1313.61</td>\n",
              "      <td>0.10</td>\n",
              "      <td>0.38</td>\n",
              "      <td>240.0</td>\n",
              "    </tr>\n",
              "    <tr>\n",
              "      <th>29</th>\n",
              "      <td>01.01.2009 05:00:00</td>\n",
              "      <td>997.46</td>\n",
              "      <td>-9.63</td>\n",
              "      <td>263.72</td>\n",
              "      <td>-10.65</td>\n",
              "      <td>92.20</td>\n",
              "      <td>2.94</td>\n",
              "      <td>2.71</td>\n",
              "      <td>0.23</td>\n",
              "      <td>1.69</td>\n",
              "      <td>2.71</td>\n",
              "      <td>1317.19</td>\n",
              "      <td>0.40</td>\n",
              "      <td>0.88</td>\n",
              "      <td>157.0</td>\n",
              "    </tr>\n",
              "    <tr>\n",
              "      <th>...</th>\n",
              "      <td>...</td>\n",
              "      <td>...</td>\n",
              "      <td>...</td>\n",
              "      <td>...</td>\n",
              "      <td>...</td>\n",
              "      <td>...</td>\n",
              "      <td>...</td>\n",
              "      <td>...</td>\n",
              "      <td>...</td>\n",
              "      <td>...</td>\n",
              "      <td>...</td>\n",
              "      <td>...</td>\n",
              "      <td>...</td>\n",
              "      <td>...</td>\n",
              "      <td>...</td>\n",
              "    </tr>\n",
              "    <tr>\n",
              "      <th>420521</th>\n",
              "      <td>31.12.2016 19:10:00</td>\n",
              "      <td>1002.18</td>\n",
              "      <td>-0.98</td>\n",
              "      <td>272.01</td>\n",
              "      <td>-5.36</td>\n",
              "      <td>72.00</td>\n",
              "      <td>5.69</td>\n",
              "      <td>4.09</td>\n",
              "      <td>1.59</td>\n",
              "      <td>2.54</td>\n",
              "      <td>4.08</td>\n",
              "      <td>1280.70</td>\n",
              "      <td>0.87</td>\n",
              "      <td>1.36</td>\n",
              "      <td>190.6</td>\n",
              "    </tr>\n",
              "    <tr>\n",
              "      <th>420527</th>\n",
              "      <td>31.12.2016 20:10:00</td>\n",
              "      <td>1001.40</td>\n",
              "      <td>-1.40</td>\n",
              "      <td>271.66</td>\n",
              "      <td>-6.84</td>\n",
              "      <td>66.29</td>\n",
              "      <td>5.51</td>\n",
              "      <td>3.65</td>\n",
              "      <td>1.86</td>\n",
              "      <td>2.27</td>\n",
              "      <td>3.65</td>\n",
              "      <td>1281.87</td>\n",
              "      <td>1.02</td>\n",
              "      <td>1.92</td>\n",
              "      <td>225.4</td>\n",
              "    </tr>\n",
              "    <tr>\n",
              "      <th>420533</th>\n",
              "      <td>31.12.2016 21:10:00</td>\n",
              "      <td>1001.19</td>\n",
              "      <td>-2.75</td>\n",
              "      <td>270.32</td>\n",
              "      <td>-6.90</td>\n",
              "      <td>72.90</td>\n",
              "      <td>4.99</td>\n",
              "      <td>3.64</td>\n",
              "      <td>1.35</td>\n",
              "      <td>2.26</td>\n",
              "      <td>3.63</td>\n",
              "      <td>1288.02</td>\n",
              "      <td>0.71</td>\n",
              "      <td>1.56</td>\n",
              "      <td>158.7</td>\n",
              "    </tr>\n",
              "    <tr>\n",
              "      <th>420539</th>\n",
              "      <td>31.12.2016 22:10:00</td>\n",
              "      <td>1000.65</td>\n",
              "      <td>-2.89</td>\n",
              "      <td>270.22</td>\n",
              "      <td>-7.15</td>\n",
              "      <td>72.30</td>\n",
              "      <td>4.93</td>\n",
              "      <td>3.57</td>\n",
              "      <td>1.37</td>\n",
              "      <td>2.22</td>\n",
              "      <td>3.57</td>\n",
              "      <td>1288.03</td>\n",
              "      <td>0.35</td>\n",
              "      <td>0.68</td>\n",
              "      <td>216.7</td>\n",
              "    </tr>\n",
              "    <tr>\n",
              "      <th>420545</th>\n",
              "      <td>31.12.2016 23:10:00</td>\n",
              "      <td>1000.11</td>\n",
              "      <td>-3.93</td>\n",
              "      <td>269.23</td>\n",
              "      <td>-8.09</td>\n",
              "      <td>72.60</td>\n",
              "      <td>4.56</td>\n",
              "      <td>3.31</td>\n",
              "      <td>1.25</td>\n",
              "      <td>2.06</td>\n",
              "      <td>3.31</td>\n",
              "      <td>1292.41</td>\n",
              "      <td>0.56</td>\n",
              "      <td>1.00</td>\n",
              "      <td>202.6</td>\n",
              "    </tr>\n",
              "  </tbody>\n",
              "</table>\n",
              "<p>70091 rows × 15 columns</p>\n",
              "</div>"
            ],
            "text/plain": [
              "                  Date Time  p (mbar)  ...  max. wv (m/s)  wd (deg)\n",
              "5       01.01.2009 01:00:00    996.50  ...           0.63     192.7\n",
              "11      01.01.2009 02:00:00    996.62  ...           0.63     190.3\n",
              "17      01.01.2009 03:00:00    996.84  ...           0.63     167.2\n",
              "23      01.01.2009 04:00:00    996.99  ...           0.38     240.0\n",
              "29      01.01.2009 05:00:00    997.46  ...           0.88     157.0\n",
              "...                     ...       ...  ...            ...       ...\n",
              "420521  31.12.2016 19:10:00   1002.18  ...           1.36     190.6\n",
              "420527  31.12.2016 20:10:00   1001.40  ...           1.92     225.4\n",
              "420533  31.12.2016 21:10:00   1001.19  ...           1.56     158.7\n",
              "420539  31.12.2016 22:10:00   1000.65  ...           0.68     216.7\n",
              "420545  31.12.2016 23:10:00   1000.11  ...           1.00     202.6\n",
              "\n",
              "[70091 rows x 15 columns]"
            ]
          },
          "execution_count": 4,
          "metadata": {},
          "output_type": "execute_result"
        }
      ],
      "source": [
        "df = df[5::6]\n",
        "df"
      ]
    },
    {
      "cell_type": "code",
      "execution_count": 4,
      "metadata": {
        "colab": {
          "base_uri": "https://localhost:8080/",
          "height": 1000
        },
        "id": "C1MZOKB3Sg0X",
        "outputId": "b8ae7e79-5237-49e2-9ece-d5714983768b"
      },
      "outputs": [
        {
          "data": {
            "text/html": [
              "<div>\n",
              "<style scoped>\n",
              "    .dataframe tbody tr th:only-of-type {\n",
              "        vertical-align: middle;\n",
              "    }\n",
              "\n",
              "    .dataframe tbody tr th {\n",
              "        vertical-align: top;\n",
              "    }\n",
              "\n",
              "    .dataframe thead th {\n",
              "        text-align: right;\n",
              "    }\n",
              "</style>\n",
              "<table border=\"1\" class=\"dataframe\">\n",
              "  <thead>\n",
              "    <tr style=\"text-align: right;\">\n",
              "      <th></th>\n",
              "      <th>Date Time</th>\n",
              "      <th>p (mbar)</th>\n",
              "      <th>T (degC)</th>\n",
              "      <th>Tpot (K)</th>\n",
              "      <th>Tdew (degC)</th>\n",
              "      <th>rh (%)</th>\n",
              "      <th>VPmax (mbar)</th>\n",
              "      <th>VPact (mbar)</th>\n",
              "      <th>VPdef (mbar)</th>\n",
              "      <th>sh (g/kg)</th>\n",
              "      <th>H2OC (mmol/mol)</th>\n",
              "      <th>rho (g/m**3)</th>\n",
              "      <th>wv (m/s)</th>\n",
              "      <th>max. wv (m/s)</th>\n",
              "      <th>wd (deg)</th>\n",
              "    </tr>\n",
              "    <tr>\n",
              "      <th>Date Time</th>\n",
              "      <th></th>\n",
              "      <th></th>\n",
              "      <th></th>\n",
              "      <th></th>\n",
              "      <th></th>\n",
              "      <th></th>\n",
              "      <th></th>\n",
              "      <th></th>\n",
              "      <th></th>\n",
              "      <th></th>\n",
              "      <th></th>\n",
              "      <th></th>\n",
              "      <th></th>\n",
              "      <th></th>\n",
              "      <th></th>\n",
              "    </tr>\n",
              "  </thead>\n",
              "  <tbody>\n",
              "    <tr>\n",
              "      <th>2009-01-01 00:10:00</th>\n",
              "      <td>01.01.2009 00:10:00</td>\n",
              "      <td>996.52</td>\n",
              "      <td>-8.02</td>\n",
              "      <td>265.40</td>\n",
              "      <td>-8.90</td>\n",
              "      <td>93.3</td>\n",
              "      <td>3.33</td>\n",
              "      <td>3.11</td>\n",
              "      <td>0.22</td>\n",
              "      <td>1.94</td>\n",
              "      <td>3.12</td>\n",
              "      <td>1307.75</td>\n",
              "      <td>1.03</td>\n",
              "      <td>1.75</td>\n",
              "      <td>152.3</td>\n",
              "    </tr>\n",
              "    <tr>\n",
              "      <th>2009-01-01 00:20:00</th>\n",
              "      <td>01.01.2009 00:20:00</td>\n",
              "      <td>996.57</td>\n",
              "      <td>-8.41</td>\n",
              "      <td>265.01</td>\n",
              "      <td>-9.28</td>\n",
              "      <td>93.4</td>\n",
              "      <td>3.23</td>\n",
              "      <td>3.02</td>\n",
              "      <td>0.21</td>\n",
              "      <td>1.89</td>\n",
              "      <td>3.03</td>\n",
              "      <td>1309.80</td>\n",
              "      <td>0.72</td>\n",
              "      <td>1.50</td>\n",
              "      <td>136.1</td>\n",
              "    </tr>\n",
              "    <tr>\n",
              "      <th>2009-01-01 00:30:00</th>\n",
              "      <td>01.01.2009 00:30:00</td>\n",
              "      <td>996.53</td>\n",
              "      <td>-8.51</td>\n",
              "      <td>264.91</td>\n",
              "      <td>-9.31</td>\n",
              "      <td>93.9</td>\n",
              "      <td>3.21</td>\n",
              "      <td>3.01</td>\n",
              "      <td>0.20</td>\n",
              "      <td>1.88</td>\n",
              "      <td>3.02</td>\n",
              "      <td>1310.24</td>\n",
              "      <td>0.19</td>\n",
              "      <td>0.63</td>\n",
              "      <td>171.6</td>\n",
              "    </tr>\n",
              "    <tr>\n",
              "      <th>2009-01-01 00:40:00</th>\n",
              "      <td>01.01.2009 00:40:00</td>\n",
              "      <td>996.51</td>\n",
              "      <td>-8.31</td>\n",
              "      <td>265.12</td>\n",
              "      <td>-9.07</td>\n",
              "      <td>94.2</td>\n",
              "      <td>3.26</td>\n",
              "      <td>3.07</td>\n",
              "      <td>0.19</td>\n",
              "      <td>1.92</td>\n",
              "      <td>3.08</td>\n",
              "      <td>1309.19</td>\n",
              "      <td>0.34</td>\n",
              "      <td>0.50</td>\n",
              "      <td>198.0</td>\n",
              "    </tr>\n",
              "    <tr>\n",
              "      <th>2009-01-01 00:50:00</th>\n",
              "      <td>01.01.2009 00:50:00</td>\n",
              "      <td>996.51</td>\n",
              "      <td>-8.27</td>\n",
              "      <td>265.15</td>\n",
              "      <td>-9.04</td>\n",
              "      <td>94.1</td>\n",
              "      <td>3.27</td>\n",
              "      <td>3.08</td>\n",
              "      <td>0.19</td>\n",
              "      <td>1.92</td>\n",
              "      <td>3.09</td>\n",
              "      <td>1309.00</td>\n",
              "      <td>0.32</td>\n",
              "      <td>0.63</td>\n",
              "      <td>214.3</td>\n",
              "    </tr>\n",
              "    <tr>\n",
              "      <th>2009-01-01 01:00:00</th>\n",
              "      <td>01.01.2009 01:00:00</td>\n",
              "      <td>996.50</td>\n",
              "      <td>-8.05</td>\n",
              "      <td>265.38</td>\n",
              "      <td>-8.78</td>\n",
              "      <td>94.4</td>\n",
              "      <td>3.33</td>\n",
              "      <td>3.14</td>\n",
              "      <td>0.19</td>\n",
              "      <td>1.96</td>\n",
              "      <td>3.15</td>\n",
              "      <td>1307.86</td>\n",
              "      <td>0.21</td>\n",
              "      <td>0.63</td>\n",
              "      <td>192.7</td>\n",
              "    </tr>\n",
              "    <tr>\n",
              "      <th>2009-01-01 01:10:00</th>\n",
              "      <td>01.01.2009 01:10:00</td>\n",
              "      <td>996.50</td>\n",
              "      <td>-7.62</td>\n",
              "      <td>265.81</td>\n",
              "      <td>-8.30</td>\n",
              "      <td>94.8</td>\n",
              "      <td>3.44</td>\n",
              "      <td>3.26</td>\n",
              "      <td>0.18</td>\n",
              "      <td>2.04</td>\n",
              "      <td>3.27</td>\n",
              "      <td>1305.68</td>\n",
              "      <td>0.18</td>\n",
              "      <td>0.63</td>\n",
              "      <td>166.5</td>\n",
              "    </tr>\n",
              "    <tr>\n",
              "      <th>2009-01-01 01:20:00</th>\n",
              "      <td>01.01.2009 01:20:00</td>\n",
              "      <td>996.50</td>\n",
              "      <td>-7.62</td>\n",
              "      <td>265.81</td>\n",
              "      <td>-8.36</td>\n",
              "      <td>94.4</td>\n",
              "      <td>3.44</td>\n",
              "      <td>3.25</td>\n",
              "      <td>0.19</td>\n",
              "      <td>2.03</td>\n",
              "      <td>3.26</td>\n",
              "      <td>1305.69</td>\n",
              "      <td>0.19</td>\n",
              "      <td>0.50</td>\n",
              "      <td>118.6</td>\n",
              "    </tr>\n",
              "    <tr>\n",
              "      <th>2009-01-01 01:30:00</th>\n",
              "      <td>01.01.2009 01:30:00</td>\n",
              "      <td>996.50</td>\n",
              "      <td>-7.91</td>\n",
              "      <td>265.52</td>\n",
              "      <td>-8.73</td>\n",
              "      <td>93.8</td>\n",
              "      <td>3.36</td>\n",
              "      <td>3.15</td>\n",
              "      <td>0.21</td>\n",
              "      <td>1.97</td>\n",
              "      <td>3.16</td>\n",
              "      <td>1307.17</td>\n",
              "      <td>0.28</td>\n",
              "      <td>0.75</td>\n",
              "      <td>188.5</td>\n",
              "    </tr>\n",
              "    <tr>\n",
              "      <th>2009-01-01 01:40:00</th>\n",
              "      <td>01.01.2009 01:40:00</td>\n",
              "      <td>996.53</td>\n",
              "      <td>-8.43</td>\n",
              "      <td>264.99</td>\n",
              "      <td>-9.34</td>\n",
              "      <td>93.1</td>\n",
              "      <td>3.23</td>\n",
              "      <td>3.00</td>\n",
              "      <td>0.22</td>\n",
              "      <td>1.88</td>\n",
              "      <td>3.02</td>\n",
              "      <td>1309.85</td>\n",
              "      <td>0.59</td>\n",
              "      <td>0.88</td>\n",
              "      <td>185.0</td>\n",
              "    </tr>\n",
              "    <tr>\n",
              "      <th>2009-01-01 01:50:00</th>\n",
              "      <td>01.01.2009 01:50:00</td>\n",
              "      <td>996.62</td>\n",
              "      <td>-8.76</td>\n",
              "      <td>264.66</td>\n",
              "      <td>-9.66</td>\n",
              "      <td>93.1</td>\n",
              "      <td>3.14</td>\n",
              "      <td>2.93</td>\n",
              "      <td>0.22</td>\n",
              "      <td>1.83</td>\n",
              "      <td>2.94</td>\n",
              "      <td>1311.64</td>\n",
              "      <td>0.45</td>\n",
              "      <td>0.88</td>\n",
              "      <td>183.2</td>\n",
              "    </tr>\n",
              "    <tr>\n",
              "      <th>2009-01-01 02:00:00</th>\n",
              "      <td>01.01.2009 02:00:00</td>\n",
              "      <td>996.62</td>\n",
              "      <td>-8.88</td>\n",
              "      <td>264.54</td>\n",
              "      <td>-9.77</td>\n",
              "      <td>93.2</td>\n",
              "      <td>3.12</td>\n",
              "      <td>2.90</td>\n",
              "      <td>0.21</td>\n",
              "      <td>1.81</td>\n",
              "      <td>2.91</td>\n",
              "      <td>1312.25</td>\n",
              "      <td>0.25</td>\n",
              "      <td>0.63</td>\n",
              "      <td>190.3</td>\n",
              "    </tr>\n",
              "    <tr>\n",
              "      <th>2009-01-01 02:10:00</th>\n",
              "      <td>01.01.2009 02:10:00</td>\n",
              "      <td>996.63</td>\n",
              "      <td>-8.85</td>\n",
              "      <td>264.57</td>\n",
              "      <td>-9.70</td>\n",
              "      <td>93.5</td>\n",
              "      <td>3.12</td>\n",
              "      <td>2.92</td>\n",
              "      <td>0.20</td>\n",
              "      <td>1.82</td>\n",
              "      <td>2.93</td>\n",
              "      <td>1312.11</td>\n",
              "      <td>0.16</td>\n",
              "      <td>0.50</td>\n",
              "      <td>158.3</td>\n",
              "    </tr>\n",
              "    <tr>\n",
              "      <th>2009-01-01 02:20:00</th>\n",
              "      <td>01.01.2009 02:20:00</td>\n",
              "      <td>996.74</td>\n",
              "      <td>-8.83</td>\n",
              "      <td>264.58</td>\n",
              "      <td>-9.68</td>\n",
              "      <td>93.5</td>\n",
              "      <td>3.13</td>\n",
              "      <td>2.92</td>\n",
              "      <td>0.20</td>\n",
              "      <td>1.83</td>\n",
              "      <td>2.93</td>\n",
              "      <td>1312.15</td>\n",
              "      <td>0.36</td>\n",
              "      <td>0.63</td>\n",
              "      <td>184.8</td>\n",
              "    </tr>\n",
              "    <tr>\n",
              "      <th>2009-01-01 02:30:00</th>\n",
              "      <td>01.01.2009 02:30:00</td>\n",
              "      <td>996.81</td>\n",
              "      <td>-8.66</td>\n",
              "      <td>264.74</td>\n",
              "      <td>-9.46</td>\n",
              "      <td>93.9</td>\n",
              "      <td>3.17</td>\n",
              "      <td>2.98</td>\n",
              "      <td>0.19</td>\n",
              "      <td>1.86</td>\n",
              "      <td>2.99</td>\n",
              "      <td>1311.37</td>\n",
              "      <td>0.33</td>\n",
              "      <td>0.75</td>\n",
              "      <td>155.9</td>\n",
              "    </tr>\n",
              "    <tr>\n",
              "      <th>2009-01-01 02:40:00</th>\n",
              "      <td>01.01.2009 02:40:00</td>\n",
              "      <td>996.81</td>\n",
              "      <td>-8.66</td>\n",
              "      <td>264.74</td>\n",
              "      <td>-9.50</td>\n",
              "      <td>93.6</td>\n",
              "      <td>3.17</td>\n",
              "      <td>2.97</td>\n",
              "      <td>0.20</td>\n",
              "      <td>1.85</td>\n",
              "      <td>2.98</td>\n",
              "      <td>1311.38</td>\n",
              "      <td>0.07</td>\n",
              "      <td>0.50</td>\n",
              "      <td>272.4</td>\n",
              "    </tr>\n",
              "    <tr>\n",
              "      <th>2009-01-01 02:50:00</th>\n",
              "      <td>01.01.2009 02:50:00</td>\n",
              "      <td>996.86</td>\n",
              "      <td>-8.70</td>\n",
              "      <td>264.70</td>\n",
              "      <td>-9.55</td>\n",
              "      <td>93.5</td>\n",
              "      <td>3.16</td>\n",
              "      <td>2.95</td>\n",
              "      <td>0.21</td>\n",
              "      <td>1.85</td>\n",
              "      <td>2.96</td>\n",
              "      <td>1311.64</td>\n",
              "      <td>0.32</td>\n",
              "      <td>0.63</td>\n",
              "      <td>219.2</td>\n",
              "    </tr>\n",
              "    <tr>\n",
              "      <th>2009-01-01 03:00:00</th>\n",
              "      <td>01.01.2009 03:00:00</td>\n",
              "      <td>996.84</td>\n",
              "      <td>-8.81</td>\n",
              "      <td>264.59</td>\n",
              "      <td>-9.66</td>\n",
              "      <td>93.5</td>\n",
              "      <td>3.13</td>\n",
              "      <td>2.93</td>\n",
              "      <td>0.20</td>\n",
              "      <td>1.83</td>\n",
              "      <td>2.94</td>\n",
              "      <td>1312.18</td>\n",
              "      <td>0.18</td>\n",
              "      <td>0.63</td>\n",
              "      <td>167.2</td>\n",
              "    </tr>\n",
              "    <tr>\n",
              "      <th>2009-01-01 03:10:00</th>\n",
              "      <td>01.01.2009 03:10:00</td>\n",
              "      <td>996.87</td>\n",
              "      <td>-8.84</td>\n",
              "      <td>264.56</td>\n",
              "      <td>-9.69</td>\n",
              "      <td>93.5</td>\n",
              "      <td>3.13</td>\n",
              "      <td>2.92</td>\n",
              "      <td>0.20</td>\n",
              "      <td>1.83</td>\n",
              "      <td>2.93</td>\n",
              "      <td>1312.37</td>\n",
              "      <td>0.07</td>\n",
              "      <td>0.25</td>\n",
              "      <td>129.3</td>\n",
              "    </tr>\n",
              "    <tr>\n",
              "      <th>2009-01-01 03:20:00</th>\n",
              "      <td>01.01.2009 03:20:00</td>\n",
              "      <td>996.97</td>\n",
              "      <td>-8.94</td>\n",
              "      <td>264.45</td>\n",
              "      <td>-9.82</td>\n",
              "      <td>93.3</td>\n",
              "      <td>3.10</td>\n",
              "      <td>2.89</td>\n",
              "      <td>0.21</td>\n",
              "      <td>1.81</td>\n",
              "      <td>2.90</td>\n",
              "      <td>1313.01</td>\n",
              "      <td>0.10</td>\n",
              "      <td>0.63</td>\n",
              "      <td>115.3</td>\n",
              "    </tr>\n",
              "    <tr>\n",
              "      <th>2009-01-01 03:30:00</th>\n",
              "      <td>01.01.2009 03:30:00</td>\n",
              "      <td>997.08</td>\n",
              "      <td>-8.94</td>\n",
              "      <td>264.44</td>\n",
              "      <td>-9.80</td>\n",
              "      <td>93.4</td>\n",
              "      <td>3.10</td>\n",
              "      <td>2.90</td>\n",
              "      <td>0.20</td>\n",
              "      <td>1.81</td>\n",
              "      <td>2.90</td>\n",
              "      <td>1313.15</td>\n",
              "      <td>0.30</td>\n",
              "      <td>0.75</td>\n",
              "      <td>149.3</td>\n",
              "    </tr>\n",
              "    <tr>\n",
              "      <th>2009-01-01 03:40:00</th>\n",
              "      <td>01.01.2009 03:40:00</td>\n",
              "      <td>997.10</td>\n",
              "      <td>-8.86</td>\n",
              "      <td>264.52</td>\n",
              "      <td>-9.76</td>\n",
              "      <td>93.1</td>\n",
              "      <td>3.12</td>\n",
              "      <td>2.90</td>\n",
              "      <td>0.22</td>\n",
              "      <td>1.81</td>\n",
              "      <td>2.91</td>\n",
              "      <td>1312.78</td>\n",
              "      <td>0.29</td>\n",
              "      <td>0.75</td>\n",
              "      <td>149.7</td>\n",
              "    </tr>\n",
              "    <tr>\n",
              "      <th>2009-01-01 03:50:00</th>\n",
              "      <td>01.01.2009 03:50:00</td>\n",
              "      <td>997.06</td>\n",
              "      <td>-8.99</td>\n",
              "      <td>264.39</td>\n",
              "      <td>-9.99</td>\n",
              "      <td>92.4</td>\n",
              "      <td>3.09</td>\n",
              "      <td>2.85</td>\n",
              "      <td>0.23</td>\n",
              "      <td>1.78</td>\n",
              "      <td>2.86</td>\n",
              "      <td>1313.39</td>\n",
              "      <td>0.12</td>\n",
              "      <td>0.63</td>\n",
              "      <td>231.7</td>\n",
              "    </tr>\n",
              "    <tr>\n",
              "      <th>2009-01-01 04:00:00</th>\n",
              "      <td>01.01.2009 04:00:00</td>\n",
              "      <td>996.99</td>\n",
              "      <td>-9.05</td>\n",
              "      <td>264.34</td>\n",
              "      <td>-10.02</td>\n",
              "      <td>92.6</td>\n",
              "      <td>3.07</td>\n",
              "      <td>2.85</td>\n",
              "      <td>0.23</td>\n",
              "      <td>1.78</td>\n",
              "      <td>2.85</td>\n",
              "      <td>1313.61</td>\n",
              "      <td>0.10</td>\n",
              "      <td>0.38</td>\n",
              "      <td>240.0</td>\n",
              "    </tr>\n",
              "    <tr>\n",
              "      <th>2009-01-01 04:10:00</th>\n",
              "      <td>01.01.2009 04:10:00</td>\n",
              "      <td>997.05</td>\n",
              "      <td>-9.23</td>\n",
              "      <td>264.15</td>\n",
              "      <td>-10.25</td>\n",
              "      <td>92.2</td>\n",
              "      <td>3.03</td>\n",
              "      <td>2.79</td>\n",
              "      <td>0.24</td>\n",
              "      <td>1.74</td>\n",
              "      <td>2.80</td>\n",
              "      <td>1314.62</td>\n",
              "      <td>0.10</td>\n",
              "      <td>0.38</td>\n",
              "      <td>203.9</td>\n",
              "    </tr>\n",
              "    <tr>\n",
              "      <th>2009-01-01 04:20:00</th>\n",
              "      <td>01.01.2009 04:20:00</td>\n",
              "      <td>997.11</td>\n",
              "      <td>-9.49</td>\n",
              "      <td>263.89</td>\n",
              "      <td>-10.54</td>\n",
              "      <td>92.0</td>\n",
              "      <td>2.97</td>\n",
              "      <td>2.73</td>\n",
              "      <td>0.24</td>\n",
              "      <td>1.71</td>\n",
              "      <td>2.74</td>\n",
              "      <td>1316.02</td>\n",
              "      <td>0.34</td>\n",
              "      <td>0.75</td>\n",
              "      <td>159.7</td>\n",
              "    </tr>\n",
              "  </tbody>\n",
              "</table>\n",
              "</div>"
            ],
            "text/plain": [
              "                               Date Time  p (mbar)  T (degC)  Tpot (K)  \\\n",
              "Date Time                                                                \n",
              "2009-01-01 00:10:00  01.01.2009 00:10:00    996.52     -8.02    265.40   \n",
              "2009-01-01 00:20:00  01.01.2009 00:20:00    996.57     -8.41    265.01   \n",
              "2009-01-01 00:30:00  01.01.2009 00:30:00    996.53     -8.51    264.91   \n",
              "2009-01-01 00:40:00  01.01.2009 00:40:00    996.51     -8.31    265.12   \n",
              "2009-01-01 00:50:00  01.01.2009 00:50:00    996.51     -8.27    265.15   \n",
              "2009-01-01 01:00:00  01.01.2009 01:00:00    996.50     -8.05    265.38   \n",
              "2009-01-01 01:10:00  01.01.2009 01:10:00    996.50     -7.62    265.81   \n",
              "2009-01-01 01:20:00  01.01.2009 01:20:00    996.50     -7.62    265.81   \n",
              "2009-01-01 01:30:00  01.01.2009 01:30:00    996.50     -7.91    265.52   \n",
              "2009-01-01 01:40:00  01.01.2009 01:40:00    996.53     -8.43    264.99   \n",
              "2009-01-01 01:50:00  01.01.2009 01:50:00    996.62     -8.76    264.66   \n",
              "2009-01-01 02:00:00  01.01.2009 02:00:00    996.62     -8.88    264.54   \n",
              "2009-01-01 02:10:00  01.01.2009 02:10:00    996.63     -8.85    264.57   \n",
              "2009-01-01 02:20:00  01.01.2009 02:20:00    996.74     -8.83    264.58   \n",
              "2009-01-01 02:30:00  01.01.2009 02:30:00    996.81     -8.66    264.74   \n",
              "2009-01-01 02:40:00  01.01.2009 02:40:00    996.81     -8.66    264.74   \n",
              "2009-01-01 02:50:00  01.01.2009 02:50:00    996.86     -8.70    264.70   \n",
              "2009-01-01 03:00:00  01.01.2009 03:00:00    996.84     -8.81    264.59   \n",
              "2009-01-01 03:10:00  01.01.2009 03:10:00    996.87     -8.84    264.56   \n",
              "2009-01-01 03:20:00  01.01.2009 03:20:00    996.97     -8.94    264.45   \n",
              "2009-01-01 03:30:00  01.01.2009 03:30:00    997.08     -8.94    264.44   \n",
              "2009-01-01 03:40:00  01.01.2009 03:40:00    997.10     -8.86    264.52   \n",
              "2009-01-01 03:50:00  01.01.2009 03:50:00    997.06     -8.99    264.39   \n",
              "2009-01-01 04:00:00  01.01.2009 04:00:00    996.99     -9.05    264.34   \n",
              "2009-01-01 04:10:00  01.01.2009 04:10:00    997.05     -9.23    264.15   \n",
              "2009-01-01 04:20:00  01.01.2009 04:20:00    997.11     -9.49    263.89   \n",
              "\n",
              "                     Tdew (degC)  rh (%)  VPmax (mbar)  VPact (mbar)  \\\n",
              "Date Time                                                              \n",
              "2009-01-01 00:10:00        -8.90    93.3          3.33          3.11   \n",
              "2009-01-01 00:20:00        -9.28    93.4          3.23          3.02   \n",
              "2009-01-01 00:30:00        -9.31    93.9          3.21          3.01   \n",
              "2009-01-01 00:40:00        -9.07    94.2          3.26          3.07   \n",
              "2009-01-01 00:50:00        -9.04    94.1          3.27          3.08   \n",
              "2009-01-01 01:00:00        -8.78    94.4          3.33          3.14   \n",
              "2009-01-01 01:10:00        -8.30    94.8          3.44          3.26   \n",
              "2009-01-01 01:20:00        -8.36    94.4          3.44          3.25   \n",
              "2009-01-01 01:30:00        -8.73    93.8          3.36          3.15   \n",
              "2009-01-01 01:40:00        -9.34    93.1          3.23          3.00   \n",
              "2009-01-01 01:50:00        -9.66    93.1          3.14          2.93   \n",
              "2009-01-01 02:00:00        -9.77    93.2          3.12          2.90   \n",
              "2009-01-01 02:10:00        -9.70    93.5          3.12          2.92   \n",
              "2009-01-01 02:20:00        -9.68    93.5          3.13          2.92   \n",
              "2009-01-01 02:30:00        -9.46    93.9          3.17          2.98   \n",
              "2009-01-01 02:40:00        -9.50    93.6          3.17          2.97   \n",
              "2009-01-01 02:50:00        -9.55    93.5          3.16          2.95   \n",
              "2009-01-01 03:00:00        -9.66    93.5          3.13          2.93   \n",
              "2009-01-01 03:10:00        -9.69    93.5          3.13          2.92   \n",
              "2009-01-01 03:20:00        -9.82    93.3          3.10          2.89   \n",
              "2009-01-01 03:30:00        -9.80    93.4          3.10          2.90   \n",
              "2009-01-01 03:40:00        -9.76    93.1          3.12          2.90   \n",
              "2009-01-01 03:50:00        -9.99    92.4          3.09          2.85   \n",
              "2009-01-01 04:00:00       -10.02    92.6          3.07          2.85   \n",
              "2009-01-01 04:10:00       -10.25    92.2          3.03          2.79   \n",
              "2009-01-01 04:20:00       -10.54    92.0          2.97          2.73   \n",
              "\n",
              "                     VPdef (mbar)  sh (g/kg)  H2OC (mmol/mol)  rho (g/m**3)  \\\n",
              "Date Time                                                                     \n",
              "2009-01-01 00:10:00          0.22       1.94             3.12       1307.75   \n",
              "2009-01-01 00:20:00          0.21       1.89             3.03       1309.80   \n",
              "2009-01-01 00:30:00          0.20       1.88             3.02       1310.24   \n",
              "2009-01-01 00:40:00          0.19       1.92             3.08       1309.19   \n",
              "2009-01-01 00:50:00          0.19       1.92             3.09       1309.00   \n",
              "2009-01-01 01:00:00          0.19       1.96             3.15       1307.86   \n",
              "2009-01-01 01:10:00          0.18       2.04             3.27       1305.68   \n",
              "2009-01-01 01:20:00          0.19       2.03             3.26       1305.69   \n",
              "2009-01-01 01:30:00          0.21       1.97             3.16       1307.17   \n",
              "2009-01-01 01:40:00          0.22       1.88             3.02       1309.85   \n",
              "2009-01-01 01:50:00          0.22       1.83             2.94       1311.64   \n",
              "2009-01-01 02:00:00          0.21       1.81             2.91       1312.25   \n",
              "2009-01-01 02:10:00          0.20       1.82             2.93       1312.11   \n",
              "2009-01-01 02:20:00          0.20       1.83             2.93       1312.15   \n",
              "2009-01-01 02:30:00          0.19       1.86             2.99       1311.37   \n",
              "2009-01-01 02:40:00          0.20       1.85             2.98       1311.38   \n",
              "2009-01-01 02:50:00          0.21       1.85             2.96       1311.64   \n",
              "2009-01-01 03:00:00          0.20       1.83             2.94       1312.18   \n",
              "2009-01-01 03:10:00          0.20       1.83             2.93       1312.37   \n",
              "2009-01-01 03:20:00          0.21       1.81             2.90       1313.01   \n",
              "2009-01-01 03:30:00          0.20       1.81             2.90       1313.15   \n",
              "2009-01-01 03:40:00          0.22       1.81             2.91       1312.78   \n",
              "2009-01-01 03:50:00          0.23       1.78             2.86       1313.39   \n",
              "2009-01-01 04:00:00          0.23       1.78             2.85       1313.61   \n",
              "2009-01-01 04:10:00          0.24       1.74             2.80       1314.62   \n",
              "2009-01-01 04:20:00          0.24       1.71             2.74       1316.02   \n",
              "\n",
              "                     wv (m/s)  max. wv (m/s)  wd (deg)  \n",
              "Date Time                                               \n",
              "2009-01-01 00:10:00      1.03           1.75     152.3  \n",
              "2009-01-01 00:20:00      0.72           1.50     136.1  \n",
              "2009-01-01 00:30:00      0.19           0.63     171.6  \n",
              "2009-01-01 00:40:00      0.34           0.50     198.0  \n",
              "2009-01-01 00:50:00      0.32           0.63     214.3  \n",
              "2009-01-01 01:00:00      0.21           0.63     192.7  \n",
              "2009-01-01 01:10:00      0.18           0.63     166.5  \n",
              "2009-01-01 01:20:00      0.19           0.50     118.6  \n",
              "2009-01-01 01:30:00      0.28           0.75     188.5  \n",
              "2009-01-01 01:40:00      0.59           0.88     185.0  \n",
              "2009-01-01 01:50:00      0.45           0.88     183.2  \n",
              "2009-01-01 02:00:00      0.25           0.63     190.3  \n",
              "2009-01-01 02:10:00      0.16           0.50     158.3  \n",
              "2009-01-01 02:20:00      0.36           0.63     184.8  \n",
              "2009-01-01 02:30:00      0.33           0.75     155.9  \n",
              "2009-01-01 02:40:00      0.07           0.50     272.4  \n",
              "2009-01-01 02:50:00      0.32           0.63     219.2  \n",
              "2009-01-01 03:00:00      0.18           0.63     167.2  \n",
              "2009-01-01 03:10:00      0.07           0.25     129.3  \n",
              "2009-01-01 03:20:00      0.10           0.63     115.3  \n",
              "2009-01-01 03:30:00      0.30           0.75     149.3  \n",
              "2009-01-01 03:40:00      0.29           0.75     149.7  \n",
              "2009-01-01 03:50:00      0.12           0.63     231.7  \n",
              "2009-01-01 04:00:00      0.10           0.38     240.0  \n",
              "2009-01-01 04:10:00      0.10           0.38     203.9  \n",
              "2009-01-01 04:20:00      0.34           0.75     159.7  "
            ]
          },
          "execution_count": 4,
          "metadata": {},
          "output_type": "execute_result"
        }
      ],
      "source": [
        "df.index = pd.to_datetime(df['Date Time'], format='%d.%m.%Y %H:%M:%S')\n",
        "df[:26]"
      ]
    },
    {
      "cell_type": "code",
      "execution_count": 5,
      "metadata": {
        "colab": {
          "base_uri": "https://localhost:8080/",
          "height": 289
        },
        "id": "3fWZ3nYxS3oe",
        "outputId": "39e85f19-f71c-471d-eed6-a1552cb0b769"
      },
      "outputs": [
        {
          "data": {
            "text/plain": [
              "<Axes: xlabel='Date Time'>"
            ]
          },
          "execution_count": 5,
          "metadata": {},
          "output_type": "execute_result"
        },
        {
          "data": {
            "image/png": "[encoded data removed]",
            "text/plain": [
              "<Figure size 640x480 with 1 Axes>"
            ]
          },
          "metadata": {},
          "output_type": "display_data"
        }
      ],
      "source": [
        "temp = df['T (degC)']\n",
        "temp.plot()"
      ]
    },
    {
      "cell_type": "code",
      "execution_count": 6,
      "metadata": {
        "id": "bY2yEu2QTBXP"
      },
      "outputs": [],
      "source": [
        "# conver to matrix 5 hours of test 6 th hour predict loop\n",
        "# update one step up for each hour.\n",
        "# Model architect input x= is 5 hour , output y= is 6th hour\n",
        "# for multivariable(datas) we add[1,2] [2,3] or somthing like that\n",
        "# [[[1], [2], [3], [4], [5]]] [6]\n",
        "# [[[2], [3], [4], [5], [6]]] [7]\n",
        "# [[[3], [4], [5], [6], [7]]] [8]\n",
        "# windowsize is how many inputs\n",
        "def df_to_X_y(df, window_size=5):\n",
        "  df_as_np = df.to_numpy()\n",
        "  X = []\n",
        "  y = []\n",
        "  # len - window_size gives us data within boundary, \n",
        "  # its because windowsize can exceeed for last items it throws error.\n",
        "  # so we keep data within boundary, few inputs less than the size will be skipped thats ok\n",
        "  for i in range(len(df_as_np)-window_size):\n",
        "    # create a row for iteration (loop till all window_size input satisfy)\n",
        "    row = [[a] for a in df_as_np[i:i+window_size]]\n",
        "    X.append(row)\n",
        "    # get lable for each row using i, i+5 for next label\n",
        "    label = df_as_np[i+window_size]\n",
        "    y.append(label)\n",
        "  return np.array(X), np.array(y)"
      ]
    },
    {
      "cell_type": "code",
      "execution_count": 7,
      "metadata": {
        "colab": {
          "base_uri": "https://localhost:8080/"
        },
        "id": "qhGUH0NoV9Zq",
        "outputId": "c18fba4f-40c7-4555-f5ae-32bcf916a5c2"
      },
      "outputs": [
        {
          "data": {
            "text/plain": [
              "((420546, 5, 1), (420546,))"
            ]
          },
          "execution_count": 7,
          "metadata": {},
          "output_type": "execute_result"
        }
      ],
      "source": [
        "# data re arranged for loop with window size and output predict\n",
        "WINDOW_SIZE = 5\n",
        "X1, y1 = df_to_X_y(temp, WINDOW_SIZE)\n",
        "X1.shape, y1.shape"
      ]
    },
    {
      "cell_type": "code",
      "execution_count": 9,
      "metadata": {
        "colab": {
          "base_uri": "https://localhost:8080/"
        },
        "id": "Vsy2-BjnWMhB",
        "outputId": "d0c731ff-68d6-4165-8f5c-43c5dc3b145b"
      },
      "outputs": [
        {
          "data": {
            "text/plain": [
              "((355500, 5, 1), (355500,), (5500, 5, 1), (5500,), (70546, 5, 1), (70546,))"
            ]
          },
          "execution_count": 9,
          "metadata": {},
          "output_type": "execute_result"
        }
      ],
      "source": [
        "X_train1, y_train1 = X1[:355500], y1[:355500]\n",
        "X_val1, y_val1 = X1[350000:355500], y1[350000:355500]\n",
        "X_test1, y_test1 = X1[350000:], y1[350000:]\n",
        "X_train1.shape, y_train1.shape, X_val1.shape, y_val1.shape, X_test1.shape, y_test1.shape"
      ]
    },
    {
      "cell_type": "code",
      "execution_count": 10,
      "metadata": {
        "colab": {
          "base_uri": "https://localhost:8080/"
        },
        "id": "4jZz4ZjpW217",
        "outputId": "cd0012a7-a71d-48de-ae20-6b5ff97d37c9"
      },
      "outputs": [
        {
          "name": "stderr",
          "output_type": "stream",
          "text": [
            "2024-12-19 16:54:41.616355: I external/local_xla/xla/stream_executor/cuda/cuda_executor.cc:887] could not open file to read NUMA node: /sys/bus/pci/devices/0000:09:00.0/numa_node\n",
            "Your kernel may have been built without NUMA support.\n",
            "2024-12-19 16:54:41.819950: I external/local_xla/xla/stream_executor/cuda/cuda_executor.cc:887] could not open file to read NUMA node: /sys/bus/pci/devices/0000:09:00.0/numa_node\n",
            "Your kernel may have been built without NUMA support.\n",
            "2024-12-19 16:54:41.820024: I external/local_xla/xla/stream_executor/cuda/cuda_executor.cc:887] could not open file to read NUMA node: /sys/bus/pci/devices/0000:09:00.0/numa_node\n",
            "Your kernel may have been built without NUMA support.\n",
            "2024-12-19 16:54:41.826561: I external/local_xla/xla/stream_executor/cuda/cuda_executor.cc:887] could not open file to read NUMA node: /sys/bus/pci/devices/0000:09:00.0/numa_node\n",
            "Your kernel may have been built without NUMA support.\n",
            "2024-12-19 16:54:41.826643: I external/local_xla/xla/stream_executor/cuda/cuda_executor.cc:887] could not open file to read NUMA node: /sys/bus/pci/devices/0000:09:00.0/numa_node\n",
            "Your kernel may have been built without NUMA support.\n",
            "2024-12-19 16:54:41.826691: I external/local_xla/xla/stream_executor/cuda/cuda_executor.cc:887] could not open file to read NUMA node: /sys/bus/pci/devices/0000:09:00.0/numa_node\n",
            "Your kernel may have been built without NUMA support.\n",
            "2024-12-19 16:54:42.206664: I external/local_xla/xla/stream_executor/cuda/cuda_executor.cc:887] could not open file to read NUMA node: /sys/bus/pci/devices/0000:09:00.0/numa_node\n",
            "Your kernel may have been built without NUMA support.\n",
            "2024-12-19 16:54:42.206761: I external/local_xla/xla/stream_executor/cuda/cuda_executor.cc:887] could not open file to read NUMA node: /sys/bus/pci/devices/0000:09:00.0/numa_node\n",
            "Your kernel may have been built without NUMA support.\n",
            "2024-12-19 16:54:42.206773: I tensorflow/core/common_runtime/gpu/gpu_device.cc:2022] Could not identify NUMA node of platform GPU id 0, defaulting to 0.  Your kernel may not have been built with NUMA support.\n",
            "2024-12-19 16:54:42.206836: I external/local_xla/xla/stream_executor/cuda/cuda_executor.cc:887] could not open file to read NUMA node: /sys/bus/pci/devices/0000:09:00.0/numa_node\n",
            "Your kernel may have been built without NUMA support.\n",
            "2024-12-19 16:54:42.206868: I tensorflow/core/common_runtime/gpu/gpu_device.cc:1929] Created device /job:localhost/replica:0/task:0/device:GPU:0 with 4080 MB memory:  -> device: 0, name: NVIDIA GeForce GTX 1660 Ti, pci bus id: 0000:09:00.0, compute capability: 7.5\n",
            "2024-12-19 16:54:42.685939: I external/local_tsl/tsl/platform/default/subprocess.cc:304] Start cannot spawn child process: No such file or directory\n"
          ]
        },
        {
          "name": "stdout",
          "output_type": "stream",
          "text": [
            "Model: \"sequential\"\n",
            "_________________________________________________________________\n",
            " Layer (type)                Output Shape              Param #   \n",
            "=================================================================\n",
            " lstm (LSTM)                 (None, 64)                16896     \n",
            "                                                                 \n",
            " dense (Dense)               (None, 8)                 520       \n",
            "                                                                 \n",
            " dense_1 (Dense)             (None, 1)                 9         \n",
            "                                                                 \n",
            "=================================================================\n",
            "Total params: 17425 (68.07 KB)\n",
            "Trainable params: 17425 (68.07 KB)\n",
            "Non-trainable params: 0 (0.00 Byte)\n",
            "_________________________________________________________________\n"
          ]
        }
      ],
      "source": [
        "from tensorflow.keras.models import Sequential\n",
        "from tensorflow.keras.layers import *\n",
        "from tensorflow.keras.callbacks import ModelCheckpoint\n",
        "from tensorflow.keras.losses import MeanSquaredError\n",
        "from tensorflow.keras.metrics import RootMeanSquaredError\n",
        "from tensorflow.keras.optimizers import Adam\n",
        "\n",
        "model1 = Sequential()\n",
        "model1.add(InputLayer((5, 1)))\n",
        "model1.add(LSTM(64))\n",
        "model1.add(Dense(8, 'relu'))\n",
        "model1.add(Dense(1, 'linear'))\n",
        "\n",
        "model1.summary()"
      ]
    },
    {
      "cell_type": "code",
      "execution_count": 11,
      "metadata": {
        "id": "5jMK7auDXwEr"
      },
      "outputs": [],
      "source": [
        "cp1 = ModelCheckpoint('model1/', save_best_only=True)\n",
        "model1.compile(loss=MeanSquaredError(), optimizer=Adam(learning_rate=0.0001), metrics=[RootMeanSquaredError()])"
      ]
    },
    {
      "cell_type": "code",
      "execution_count": 12,
      "metadata": {
        "colab": {
          "base_uri": "https://localhost:8080/"
        },
        "id": "CWeSakSwYLtr",
        "outputId": "9977d223-2642-449a-db72-97a6f52bacdd"
      },
      "outputs": [
        {
          "name": "stdout",
          "output_type": "stream",
          "text": [
            "Epoch 1/10\n"
          ]
        },
        {
          "name": "stderr",
          "output_type": "stream",
          "text": [
            "2024-12-19 16:55:15.734804: I external/local_xla/xla/stream_executor/cuda/cuda_dnn.cc:454] Loaded cuDNN version 8904\n",
            "2024-12-19 16:55:16.426791: I external/local_xla/xla/service/service.cc:168] XLA service 0x7f08e907e6d0 initialized for platform CUDA (this does not guarantee that XLA will be used). Devices:\n",
            "2024-12-19 16:55:16.426865: I external/local_xla/xla/service/service.cc:176]   StreamExecutor device (0): NVIDIA GeForce GTX 1660 Ti, Compute Capability 7.5\n",
            "2024-12-19 16:55:16.446872: I tensorflow/compiler/mlir/tensorflow/utils/dump_mlir_util.cc:269] disabling MLIR crash reproducer, set env var `MLIR_CRASH_REPRODUCER_DIRECTORY` to enable.\n",
            "WARNING: All log messages before absl::InitializeLog() is called are written to STDERR\n",
            "I0000 00:00:1734627316.601582    7684 device_compiler.h:186] Compiled cluster using XLA!  This line is logged at most once for the lifetime of the process.\n"
          ]
        },
        {
          "name": "stdout",
          "output_type": "stream",
          "text": [
            "11110/11110 [==============================] - ETA: 0s - loss: 5.0058 - root_mean_squared_error: 2.2374INFO:tensorflow:Assets written to: model1/assets\n"
          ]
        },
        {
          "name": "stderr",
          "output_type": "stream",
          "text": [
            "INFO:tensorflow:Assets written to: model1/assets\n"
          ]
        },
        {
          "name": "stdout",
          "output_type": "stream",
          "text": [
            "11110/11110 [==============================] - 123s 11ms/step - loss: 5.0058 - root_mean_squared_error: 2.2374 - val_loss: 0.0579 - val_root_mean_squared_error: 0.2405\n",
            "Epoch 2/10\n",
            "11108/11110 [============================>.] - ETA: 0s - loss: 0.0500 - root_mean_squared_error: 0.2236INFO:tensorflow:Assets written to: model1/assets\n"
          ]
        },
        {
          "name": "stderr",
          "output_type": "stream",
          "text": [
            "INFO:tensorflow:Assets written to: model1/assets\n"
          ]
        },
        {
          "name": "stdout",
          "output_type": "stream",
          "text": [
            "11110/11110 [==============================] - 121s 11ms/step - loss: 0.0500 - root_mean_squared_error: 0.2236 - val_loss: 0.0521 - val_root_mean_squared_error: 0.2282\n",
            "Epoch 3/10\n",
            "11109/11110 [============================>.] - ETA: 0s - loss: 0.0454 - root_mean_squared_error: 0.2131INFO:tensorflow:Assets written to: model1/assets\n"
          ]
        },
        {
          "name": "stderr",
          "output_type": "stream",
          "text": [
            "INFO:tensorflow:Assets written to: model1/assets\n"
          ]
        },
        {
          "name": "stdout",
          "output_type": "stream",
          "text": [
            "11110/11110 [==============================] - 114s 10ms/step - loss: 0.0454 - root_mean_squared_error: 0.2131 - val_loss: 0.0517 - val_root_mean_squared_error: 0.2274\n",
            "Epoch 4/10\n",
            "11110/11110 [==============================] - 114s 10ms/step - loss: 0.0447 - root_mean_squared_error: 0.2113 - val_loss: 0.0525 - val_root_mean_squared_error: 0.2292\n",
            "Epoch 5/10\n",
            "11110/11110 [==============================] - 112s 10ms/step - loss: 0.0444 - root_mean_squared_error: 0.2108 - val_loss: 0.0575 - val_root_mean_squared_error: 0.2398\n",
            "Epoch 6/10\n",
            "11108/11110 [============================>.] - ETA: 0s - loss: 0.0442 - root_mean_squared_error: 0.2103INFO:tensorflow:Assets written to: model1/assets\n"
          ]
        },
        {
          "name": "stderr",
          "output_type": "stream",
          "text": [
            "INFO:tensorflow:Assets written to: model1/assets\n"
          ]
        },
        {
          "name": "stdout",
          "output_type": "stream",
          "text": [
            "11110/11110 [==============================] - 123s 11ms/step - loss: 0.0442 - root_mean_squared_error: 0.2103 - val_loss: 0.0514 - val_root_mean_squared_error: 0.2268\n",
            "Epoch 7/10\n",
            "11110/11110 [==============================] - 114s 10ms/step - loss: 0.0442 - root_mean_squared_error: 0.2102 - val_loss: 0.0528 - val_root_mean_squared_error: 0.2298\n",
            "Epoch 8/10\n",
            "11110/11110 [==============================] - 111s 10ms/step - loss: 0.0441 - root_mean_squared_error: 0.2099 - val_loss: 0.0519 - val_root_mean_squared_error: 0.2278\n",
            "Epoch 9/10\n",
            "11110/11110 [==============================] - 110s 10ms/step - loss: 0.0440 - root_mean_squared_error: 0.2097 - val_loss: 0.0515 - val_root_mean_squared_error: 0.2270\n",
            "Epoch 10/10\n",
            "11110/11110 [==============================] - 112s 10ms/step - loss: 0.0440 - root_mean_squared_error: 0.2096 - val_loss: 0.0529 - val_root_mean_squared_error: 0.2301\n"
          ]
        },
        {
          "data": {
            "text/plain": [
              "<keras.src.callbacks.History at 0x7f0a05174810>"
            ]
          },
          "execution_count": 12,
          "metadata": {},
          "output_type": "execute_result"
        }
      ],
      "source": [
        "model1.fit(X_train1, y_train1, validation_data=(X_val1, y_val1), epochs=10, callbacks=[cp1])"
      ]
    },
    {
      "cell_type": "code",
      "execution_count": 13,
      "metadata": {
        "id": "vdaqGHG4YZkN"
      },
      "outputs": [],
      "source": [
        "from tensorflow.keras.models import load_model\n",
        "model1 = load_model('model1/')"
      ]
    },
    {
      "cell_type": "code",
      "execution_count": 14,
      "metadata": {
        "colab": {
          "base_uri": "https://localhost:8080/",
          "height": 417
        },
        "id": "byObmr8CZRhp",
        "outputId": "d11e1086-ae1f-414e-b9d2-f6412487f00c"
      },
      "outputs": [
        {
          "name": "stdout",
          "output_type": "stream",
          "text": [
            "11110/11110 [==============================] - 36s 3ms/step\n"
          ]
        },
        {
          "data": {
            "text/html": [
              "<div>\n",
              "<style scoped>\n",
              "    .dataframe tbody tr th:only-of-type {\n",
              "        vertical-align: middle;\n",
              "    }\n",
              "\n",
              "    .dataframe tbody tr th {\n",
              "        vertical-align: top;\n",
              "    }\n",
              "\n",
              "    .dataframe thead th {\n",
              "        text-align: right;\n",
              "    }\n",
              "</style>\n",
              "<table border=\"1\" class=\"dataframe\">\n",
              "  <thead>\n",
              "    <tr style=\"text-align: right;\">\n",
              "      <th></th>\n",
              "      <th>Train Predictions</th>\n",
              "      <th>Actuals</th>\n",
              "    </tr>\n",
              "  </thead>\n",
              "  <tbody>\n",
              "    <tr>\n",
              "      <th>0</th>\n",
              "      <td>-8.348146</td>\n",
              "      <td>-8.05</td>\n",
              "    </tr>\n",
              "    <tr>\n",
              "      <th>1</th>\n",
              "      <td>-7.908773</td>\n",
              "      <td>-7.62</td>\n",
              "    </tr>\n",
              "    <tr>\n",
              "      <th>2</th>\n",
              "      <td>-7.374677</td>\n",
              "      <td>-7.62</td>\n",
              "    </tr>\n",
              "    <tr>\n",
              "      <th>3</th>\n",
              "      <td>-7.652462</td>\n",
              "      <td>-7.91</td>\n",
              "    </tr>\n",
              "    <tr>\n",
              "      <th>4</th>\n",
              "      <td>-7.956563</td>\n",
              "      <td>-8.43</td>\n",
              "    </tr>\n",
              "    <tr>\n",
              "      <th>...</th>\n",
              "      <td>...</td>\n",
              "      <td>...</td>\n",
              "    </tr>\n",
              "    <tr>\n",
              "      <th>355495</th>\n",
              "      <td>8.155845</td>\n",
              "      <td>8.55</td>\n",
              "    </tr>\n",
              "    <tr>\n",
              "      <th>355496</th>\n",
              "      <td>8.800519</td>\n",
              "      <td>8.59</td>\n",
              "    </tr>\n",
              "    <tr>\n",
              "      <th>355497</th>\n",
              "      <td>8.581155</td>\n",
              "      <td>8.66</td>\n",
              "    </tr>\n",
              "    <tr>\n",
              "      <th>355498</th>\n",
              "      <td>8.785798</td>\n",
              "      <td>8.49</td>\n",
              "    </tr>\n",
              "    <tr>\n",
              "      <th>355499</th>\n",
              "      <td>8.437627</td>\n",
              "      <td>8.22</td>\n",
              "    </tr>\n",
              "  </tbody>\n",
              "</table>\n",
              "<p>355500 rows × 2 columns</p>\n",
              "</div>"
            ],
            "text/plain": [
              "        Train Predictions  Actuals\n",
              "0               -8.348146    -8.05\n",
              "1               -7.908773    -7.62\n",
              "2               -7.374677    -7.62\n",
              "3               -7.652462    -7.91\n",
              "4               -7.956563    -8.43\n",
              "...                   ...      ...\n",
              "355495           8.155845     8.55\n",
              "355496           8.800519     8.59\n",
              "355497           8.581155     8.66\n",
              "355498           8.785798     8.49\n",
              "355499           8.437627     8.22\n",
              "\n",
              "[355500 rows x 2 columns]"
            ]
          },
          "execution_count": 14,
          "metadata": {},
          "output_type": "execute_result"
        }
      ],
      "source": [
        "train_predictions = model1.predict(X_train1).flatten()\n",
        "train_results = pd.DataFrame(data={'Train Predictions':train_predictions, 'Actuals':y_train1})\n",
        "train_results"
      ]
    },
    {
      "cell_type": "code",
      "execution_count": 15,
      "metadata": {
        "colab": {
          "base_uri": "https://localhost:8080/",
          "height": 282
        },
        "id": "KTqY8r6_Zpev",
        "outputId": "012c15d4-b097-4eb5-dd73-10cd2e893780"
      },
      "outputs": [
        {
          "data": {
            "text/plain": [
              "[<matplotlib.lines.Line2D at 0x7f09fa57bd50>]"
            ]
          },
          "execution_count": 15,
          "metadata": {},
          "output_type": "execute_result"
        },
        {
          "data": {
            "image/png": "[encoded data removed]",
            "text/plain": [
              "<Figure size 640x480 with 1 Axes>"
            ]
          },
          "metadata": {},
          "output_type": "display_data"
        }
      ],
      "source": [
        "import matplotlib.pyplot as plt\n",
        "plt.plot(train_results['Train Predictions'][50:100])\n",
        "plt.plot(train_results['Actuals'][50:100])"
      ]
    },
    {
      "cell_type": "code",
      "execution_count": 16,
      "metadata": {
        "colab": {
          "base_uri": "https://localhost:8080/",
          "height": 417
        },
        "id": "vuY5nmGYZ8ix",
        "outputId": "e3a633dc-5bd7-48b9-bb2c-32f9328465fb"
      },
      "outputs": [
        {
          "name": "stdout",
          "output_type": "stream",
          "text": [
            "172/172 [==============================] - 1s 4ms/step\n"
          ]
        },
        {
          "data": {
            "text/html": [
              "<div>\n",
              "<style scoped>\n",
              "    .dataframe tbody tr th:only-of-type {\n",
              "        vertical-align: middle;\n",
              "    }\n",
              "\n",
              "    .dataframe tbody tr th {\n",
              "        vertical-align: top;\n",
              "    }\n",
              "\n",
              "    .dataframe thead th {\n",
              "        text-align: right;\n",
              "    }\n",
              "</style>\n",
              "<table border=\"1\" class=\"dataframe\">\n",
              "  <thead>\n",
              "    <tr style=\"text-align: right;\">\n",
              "      <th></th>\n",
              "      <th>Val Predictions</th>\n",
              "      <th>Actuals</th>\n",
              "    </tr>\n",
              "  </thead>\n",
              "  <tbody>\n",
              "    <tr>\n",
              "      <th>0</th>\n",
              "      <td>15.583283</td>\n",
              "      <td>15.89</td>\n",
              "    </tr>\n",
              "    <tr>\n",
              "      <th>1</th>\n",
              "      <td>15.867642</td>\n",
              "      <td>16.26</td>\n",
              "    </tr>\n",
              "    <tr>\n",
              "      <th>2</th>\n",
              "      <td>16.302629</td>\n",
              "      <td>16.24</td>\n",
              "    </tr>\n",
              "    <tr>\n",
              "      <th>3</th>\n",
              "      <td>16.144962</td>\n",
              "      <td>15.88</td>\n",
              "    </tr>\n",
              "    <tr>\n",
              "      <th>4</th>\n",
              "      <td>15.758267</td>\n",
              "      <td>15.37</td>\n",
              "    </tr>\n",
              "    <tr>\n",
              "      <th>...</th>\n",
              "      <td>...</td>\n",
              "      <td>...</td>\n",
              "    </tr>\n",
              "    <tr>\n",
              "      <th>5495</th>\n",
              "      <td>8.155845</td>\n",
              "      <td>8.55</td>\n",
              "    </tr>\n",
              "    <tr>\n",
              "      <th>5496</th>\n",
              "      <td>8.800518</td>\n",
              "      <td>8.59</td>\n",
              "    </tr>\n",
              "    <tr>\n",
              "      <th>5497</th>\n",
              "      <td>8.581155</td>\n",
              "      <td>8.66</td>\n",
              "    </tr>\n",
              "    <tr>\n",
              "      <th>5498</th>\n",
              "      <td>8.785798</td>\n",
              "      <td>8.49</td>\n",
              "    </tr>\n",
              "    <tr>\n",
              "      <th>5499</th>\n",
              "      <td>8.437626</td>\n",
              "      <td>8.22</td>\n",
              "    </tr>\n",
              "  </tbody>\n",
              "</table>\n",
              "<p>5500 rows × 2 columns</p>\n",
              "</div>"
            ],
            "text/plain": [
              "      Val Predictions  Actuals\n",
              "0           15.583283    15.89\n",
              "1           15.867642    16.26\n",
              "2           16.302629    16.24\n",
              "3           16.144962    15.88\n",
              "4           15.758267    15.37\n",
              "...               ...      ...\n",
              "5495         8.155845     8.55\n",
              "5496         8.800518     8.59\n",
              "5497         8.581155     8.66\n",
              "5498         8.785798     8.49\n",
              "5499         8.437626     8.22\n",
              "\n",
              "[5500 rows x 2 columns]"
            ]
          },
          "execution_count": 16,
          "metadata": {},
          "output_type": "execute_result"
        }
      ],
      "source": [
        "val_predictions = model1.predict(X_val1).flatten()\n",
        "val_results = pd.DataFrame(data={'Val Predictions':val_predictions, 'Actuals':y_val1})\n",
        "val_results"
      ]
    },
    {
      "cell_type": "code",
      "execution_count": 17,
      "metadata": {
        "colab": {
          "base_uri": "https://localhost:8080/",
          "height": 282
        },
        "id": "6MlctzuuaQww",
        "outputId": "bd97d664-5c63-494b-da21-1fbd4088431e"
      },
      "outputs": [
        {
          "data": {
            "text/plain": [
              "[<matplotlib.lines.Line2D at 0x7f08fe285a90>]"
            ]
          },
          "execution_count": 17,
          "metadata": {},
          "output_type": "execute_result"
        },
        {
          "data": {
            "image/png": "[encoded data removed]",
            "text/plain": [
              "<Figure size 640x480 with 1 Axes>"
            ]
          },
          "metadata": {},
          "output_type": "display_data"
        }
      ],
      "source": [
        "plt.plot(val_results['Val Predictions'][:100])\n",
        "plt.plot(val_results['Actuals'][:100])"
      ]
    },
    {
      "cell_type": "code",
      "execution_count": 18,
      "metadata": {
        "colab": {
          "base_uri": "https://localhost:8080/",
          "height": 417
        },
        "id": "5O59Q8MTaRN7",
        "outputId": "7579be1d-97c0-46ca-c30c-cbb92b06c8fc"
      },
      "outputs": [
        {
          "name": "stdout",
          "output_type": "stream",
          "text": [
            "2205/2205 [==============================] - 7s 3ms/step\n"
          ]
        },
        {
          "data": {
            "text/html": [
              "<div>\n",
              "<style scoped>\n",
              "    .dataframe tbody tr th:only-of-type {\n",
              "        vertical-align: middle;\n",
              "    }\n",
              "\n",
              "    .dataframe tbody tr th {\n",
              "        vertical-align: top;\n",
              "    }\n",
              "\n",
              "    .dataframe thead th {\n",
              "        text-align: right;\n",
              "    }\n",
              "</style>\n",
              "<table border=\"1\" class=\"dataframe\">\n",
              "  <thead>\n",
              "    <tr style=\"text-align: right;\">\n",
              "      <th></th>\n",
              "      <th>Test Predictions</th>\n",
              "      <th>Actuals</th>\n",
              "    </tr>\n",
              "  </thead>\n",
              "  <tbody>\n",
              "    <tr>\n",
              "      <th>0</th>\n",
              "      <td>15.583283</td>\n",
              "      <td>15.89</td>\n",
              "    </tr>\n",
              "    <tr>\n",
              "      <th>1</th>\n",
              "      <td>15.867642</td>\n",
              "      <td>16.26</td>\n",
              "    </tr>\n",
              "    <tr>\n",
              "      <th>2</th>\n",
              "      <td>16.302629</td>\n",
              "      <td>16.24</td>\n",
              "    </tr>\n",
              "    <tr>\n",
              "      <th>3</th>\n",
              "      <td>16.144962</td>\n",
              "      <td>15.88</td>\n",
              "    </tr>\n",
              "    <tr>\n",
              "      <th>4</th>\n",
              "      <td>15.758267</td>\n",
              "      <td>15.37</td>\n",
              "    </tr>\n",
              "    <tr>\n",
              "      <th>...</th>\n",
              "      <td>...</td>\n",
              "      <td>...</td>\n",
              "    </tr>\n",
              "    <tr>\n",
              "      <th>70541</th>\n",
              "      <td>-4.008801</td>\n",
              "      <td>-4.05</td>\n",
              "    </tr>\n",
              "    <tr>\n",
              "      <th>70542</th>\n",
              "      <td>-4.002553</td>\n",
              "      <td>-3.35</td>\n",
              "    </tr>\n",
              "    <tr>\n",
              "      <th>70543</th>\n",
              "      <td>-2.946450</td>\n",
              "      <td>-3.16</td>\n",
              "    </tr>\n",
              "    <tr>\n",
              "      <th>70544</th>\n",
              "      <td>-3.151947</td>\n",
              "      <td>-4.23</td>\n",
              "    </tr>\n",
              "    <tr>\n",
              "      <th>70545</th>\n",
              "      <td>-4.550369</td>\n",
              "      <td>-4.82</td>\n",
              "    </tr>\n",
              "  </tbody>\n",
              "</table>\n",
              "<p>70546 rows × 2 columns</p>\n",
              "</div>"
            ],
            "text/plain": [
              "       Test Predictions  Actuals\n",
              "0             15.583283    15.89\n",
              "1             15.867642    16.26\n",
              "2             16.302629    16.24\n",
              "3             16.144962    15.88\n",
              "4             15.758267    15.37\n",
              "...                 ...      ...\n",
              "70541         -4.008801    -4.05\n",
              "70542         -4.002553    -3.35\n",
              "70543         -2.946450    -3.16\n",
              "70544         -3.151947    -4.23\n",
              "70545         -4.550369    -4.82\n",
              "\n",
              "[70546 rows x 2 columns]"
            ]
          },
          "execution_count": 18,
          "metadata": {},
          "output_type": "execute_result"
        }
      ],
      "source": [
        "test_predictions = model1.predict(X_test1).flatten()\n",
        "test_results = pd.DataFrame(data={'Test Predictions':test_predictions, 'Actuals':y_test1})\n",
        "test_results"
      ]
    },
    {
      "cell_type": "code",
      "execution_count": 19,
      "metadata": {
        "colab": {
          "base_uri": "https://localhost:8080/",
          "height": 282
        },
        "id": "m8UzGIfEaW-P",
        "outputId": "e593d54f-c02f-4da0-d2fe-fd3f95636618"
      },
      "outputs": [
        {
          "data": {
            "text/plain": [
              "[<matplotlib.lines.Line2D at 0x7f08b430e150>]"
            ]
          },
          "execution_count": 19,
          "metadata": {},
          "output_type": "execute_result"
        },
        {
          "data": {
            "image/png": "[encoded data removed]",
            "text/plain": [
              "<Figure size 640x480 with 1 Axes>"
            ]
          },
          "metadata": {},
          "output_type": "display_data"
        }
      ],
      "source": [
        "plt.plot(test_results['Test Predictions'][:100])\n",
        "plt.plot(test_results['Actuals'][:100])"
      ]
    },
    {
      "cell_type": "markdown",
      "metadata": {
        "id": "nWdZkoPo-MZM"
      },
      "source": [
        "# NEXT MODEL"
      ]
    },
    {
      "cell_type": "code",
      "execution_count": null,
      "metadata": {
        "id": "OK63d14raZFZ"
      },
      "outputs": [],
      "source": [
        "from sklearn.metrics import mean_squared_error as mse\n",
        "\n",
        "def plot_predictions1(model, X, y, start=0, end=100):\n",
        "  predictions = model.predict(X).flatten()\n",
        "  df = pd.DataFrame(data={'Predictions': predictions, 'Actuals':y})\n",
        "  plt.plot(df['Predictions'][start:end])\n",
        "  plt.plot(df['Actuals'][start:end])\n",
        "  return df, mse(predictions, y)"
      ]
    },
    {
      "cell_type": "code",
      "execution_count": null,
      "metadata": {
        "colab": {
          "base_uri": "https://localhost:8080/",
          "height": 500
        },
        "id": "m2JjeH6V-uQn",
        "outputId": "fbf8c505-b1d3-4ca6-bbf1-d93e35d08509"
      },
      "outputs": [
        {
          "data": {
            "text/plain": [
              "(      Predictions  Actuals\n",
              " 0       14.270700    13.99\n",
              " 1       13.134656    13.46\n",
              " 2       12.756431    12.93\n",
              " 3       12.389000    12.43\n",
              " 4       11.948853    12.17\n",
              " ...           ...      ...\n",
              " 5081    -1.005016    -0.98\n",
              " 5082    -1.346865    -1.40\n",
              " 5083    -1.608510    -2.75\n",
              " 5084    -3.483826    -2.89\n",
              " 5085    -3.178735    -3.93\n",
              " \n",
              " [5086 rows x 2 columns], 0.6629716596824853)"
            ]
          },
          "execution_count": 31,
          "metadata": {},
          "output_type": "execute_result"
        },
        {
          "data": {
            "image/png": "[encoded data removed]",
            "text/plain": [
              "<Figure size 432x288 with 1 Axes>"
            ]
          },
          "metadata": {
            "needs_background": "light"
          },
          "output_type": "display_data"
        }
      ],
      "source": [
        "plot_predictions1(model1, X_test1, y_test1)"
      ]
    },
    {
      "cell_type": "code",
      "execution_count": null,
      "metadata": {
        "colab": {
          "base_uri": "https://localhost:8080/"
        },
        "id": "Avi4Zydf-ynb",
        "outputId": "80184d81-832f-4451-cede-d744f577aa5f"
      },
      "outputs": [
        {
          "name": "stdout",
          "output_type": "stream",
          "text": [
            "Model: \"sequential_3\"\n",
            "_________________________________________________________________\n",
            "Layer (type)                 Output Shape              Param #   \n",
            "=================================================================\n",
            "conv1d_1 (Conv1D)            (None, 4, 64)             192       \n",
            "_________________________________________________________________\n",
            "flatten_1 (Flatten)          (None, 256)               0         \n",
            "_________________________________________________________________\n",
            "dense_6 (Dense)              (None, 8)                 2056      \n",
            "_________________________________________________________________\n",
            "dense_7 (Dense)              (None, 1)                 9         \n",
            "=================================================================\n",
            "Total params: 2,257\n",
            "Trainable params: 2,257\n",
            "Non-trainable params: 0\n",
            "_________________________________________________________________\n"
          ]
        }
      ],
      "source": [
        "model2 = Sequential()\n",
        "model2.add(InputLayer((5, 1)))\n",
        "model2.add(Conv1D(64, kernel_size=2, activation='relu'))\n",
        "model2.add(Flatten())\n",
        "model2.add(Dense(8, 'relu'))\n",
        "model2.add(Dense(1, 'linear'))\n",
        "model2.summary()"
      ]
    },
    {
      "cell_type": "code",
      "execution_count": null,
      "metadata": {
        "id": "znQvX4Hf_0-X"
      },
      "outputs": [],
      "source": [
        "cp2 = ModelCheckpoint('model2/', save_best_only=True)\n",
        "model2.compile(loss=MeanSquaredError(), optimizer=Adam(learning_rate=0.0001), metrics=[RootMeanSquaredError()])"
      ]
    },
    {
      "cell_type": "code",
      "execution_count": null,
      "metadata": {
        "id": "zjSXAC_wAWaE"
      },
      "outputs": [],
      "source": [
        "model2.fit(X_train1, y_train1, validation_data=(X_val1, y_val1), epochs=10, callbacks=[cp2])"
      ]
    },
    {
      "cell_type": "code",
      "execution_count": null,
      "metadata": {
        "colab": {
          "base_uri": "https://localhost:8080/",
          "height": 500
        },
        "id": "sTXr6cN5Aae5",
        "outputId": "ef66b277-71a6-4e77-f324-9804d5f76092"
      },
      "outputs": [
        {
          "data": {
            "text/plain": [
              "(      Predictions  Actuals\n",
              " 0       14.379455    13.99\n",
              " 1       13.320185    13.46\n",
              " 2       12.831345    12.93\n",
              " 3       12.474539    12.43\n",
              " 4       12.077660    12.17\n",
              " ...           ...      ...\n",
              " 5081    -1.261978    -0.98\n",
              " 5082    -1.631636    -1.40\n",
              " 5083    -1.727667    -2.75\n",
              " 5084    -3.041824    -2.89\n",
              " 5085    -3.277084    -3.93\n",
              " \n",
              " [5086 rows x 2 columns], 0.6780165389518743)"
            ]
          },
          "execution_count": 36,
          "metadata": {},
          "output_type": "execute_result"
        },
        {
          "data": {
            "image/png": "[encoded data removed]",
            "text/plain": [
              "<Figure size 432x288 with 1 Axes>"
            ]
          },
          "metadata": {
            "needs_background": "light"
          },
          "output_type": "display_data"
        }
      ],
      "source": [
        "plot_predictions1(model2, X_test1, y_test1)"
      ]
    },
    {
      "cell_type": "code",
      "execution_count": null,
      "metadata": {
        "colab": {
          "base_uri": "https://localhost:8080/"
        },
        "id": "OIKUNnb3A_x-",
        "outputId": "efe74678-1508-4336-f5a4-66ddf4bb86b9"
      },
      "outputs": [
        {
          "name": "stdout",
          "output_type": "stream",
          "text": [
            "Model: \"sequential_4\"\n",
            "_________________________________________________________________\n",
            "Layer (type)                 Output Shape              Param #   \n",
            "=================================================================\n",
            "gru (GRU)                    (None, 64)                12864     \n",
            "_________________________________________________________________\n",
            "dense_8 (Dense)              (None, 8)                 520       \n",
            "_________________________________________________________________\n",
            "dense_9 (Dense)              (None, 1)                 9         \n",
            "=================================================================\n",
            "Total params: 13,393\n",
            "Trainable params: 13,393\n",
            "Non-trainable params: 0\n",
            "_________________________________________________________________\n"
          ]
        }
      ],
      "source": [
        "model3 = Sequential()\n",
        "model3.add(InputLayer((5, 1)))\n",
        "model3.add(GRU(64))\n",
        "model3.add(Dense(8, 'relu'))\n",
        "model3.add(Dense(1, 'linear'))\n",
        "model3.summary()"
      ]
    },
    {
      "cell_type": "code",
      "execution_count": null,
      "metadata": {
        "id": "IgcU2I5FBksr"
      },
      "outputs": [],
      "source": [
        "cp3 = ModelCheckpoint('model3/', save_best_only=True)\n",
        "model3.compile(loss=MeanSquaredError(), optimizer=Adam(learning_rate=0.0001), metrics=[RootMeanSquaredError()])"
      ]
    },
    {
      "cell_type": "code",
      "execution_count": null,
      "metadata": {
        "id": "FMcHF1rVB0Ry"
      },
      "outputs": [],
      "source": [
        "model3.fit(X_train1, y_train1, validation_data=(X_val1, y_val1), epochs=10, callbacks=[cp3])"
      ]
    },
    {
      "cell_type": "code",
      "execution_count": null,
      "metadata": {
        "colab": {
          "base_uri": "https://localhost:8080/"
        },
        "id": "kziIgnJgB2-F",
        "outputId": "1c464fd5-0f6e-44f2-95ba-1fd37f5f2c41"
      },
      "outputs": [
        {
          "data": {
            "text/plain": [
              "Date Time\n",
              "2009-01-01 01:00:00   -8.05\n",
              "2009-01-01 02:00:00   -8.88\n",
              "2009-01-01 03:00:00   -8.81\n",
              "2009-01-01 04:00:00   -9.05\n",
              "2009-01-01 05:00:00   -9.63\n",
              "                       ... \n",
              "2016-12-31 19:10:00   -0.98\n",
              "2016-12-31 20:10:00   -1.40\n",
              "2016-12-31 21:10:00   -2.75\n",
              "2016-12-31 22:10:00   -2.89\n",
              "2016-12-31 23:10:00   -3.93\n",
              "Name: T (degC), Length: 70091, dtype: float64"
            ]
          },
          "execution_count": 40,
          "metadata": {},
          "output_type": "execute_result"
        }
      ],
      "source": [
        "temp"
      ]
    },
    {
      "cell_type": "code",
      "execution_count": null,
      "metadata": {
        "colab": {
          "base_uri": "https://localhost:8080/",
          "height": 447
        },
        "id": "LVV0xsEpHcYS",
        "outputId": "7630bd55-5dc4-419f-dd1e-33b7fdfbc04e"
      },
      "outputs": [
        {
          "data": {
            "text/html": [
              "<div>\n",
              "<style scoped>\n",
              "    .dataframe tbody tr th:only-of-type {\n",
              "        vertical-align: middle;\n",
              "    }\n",
              "\n",
              "    .dataframe tbody tr th {\n",
              "        vertical-align: top;\n",
              "    }\n",
              "\n",
              "    .dataframe thead th {\n",
              "        text-align: right;\n",
              "    }\n",
              "</style>\n",
              "<table border=\"1\" class=\"dataframe\">\n",
              "  <thead>\n",
              "    <tr style=\"text-align: right;\">\n",
              "      <th></th>\n",
              "      <th>Temperature</th>\n",
              "      <th>Seconds</th>\n",
              "    </tr>\n",
              "    <tr>\n",
              "      <th>Date Time</th>\n",
              "      <th></th>\n",
              "      <th></th>\n",
              "    </tr>\n",
              "  </thead>\n",
              "  <tbody>\n",
              "    <tr>\n",
              "      <th>2009-01-01 01:00:00</th>\n",
              "      <td>-8.05</td>\n",
              "      <td>1.230772e+09</td>\n",
              "    </tr>\n",
              "    <tr>\n",
              "      <th>2009-01-01 02:00:00</th>\n",
              "      <td>-8.88</td>\n",
              "      <td>1.230775e+09</td>\n",
              "    </tr>\n",
              "    <tr>\n",
              "      <th>2009-01-01 03:00:00</th>\n",
              "      <td>-8.81</td>\n",
              "      <td>1.230779e+09</td>\n",
              "    </tr>\n",
              "    <tr>\n",
              "      <th>2009-01-01 04:00:00</th>\n",
              "      <td>-9.05</td>\n",
              "      <td>1.230782e+09</td>\n",
              "    </tr>\n",
              "    <tr>\n",
              "      <th>2009-01-01 05:00:00</th>\n",
              "      <td>-9.63</td>\n",
              "      <td>1.230786e+09</td>\n",
              "    </tr>\n",
              "    <tr>\n",
              "      <th>...</th>\n",
              "      <td>...</td>\n",
              "      <td>...</td>\n",
              "    </tr>\n",
              "    <tr>\n",
              "      <th>2016-12-31 19:10:00</th>\n",
              "      <td>-0.98</td>\n",
              "      <td>1.483211e+09</td>\n",
              "    </tr>\n",
              "    <tr>\n",
              "      <th>2016-12-31 20:10:00</th>\n",
              "      <td>-1.40</td>\n",
              "      <td>1.483215e+09</td>\n",
              "    </tr>\n",
              "    <tr>\n",
              "      <th>2016-12-31 21:10:00</th>\n",
              "      <td>-2.75</td>\n",
              "      <td>1.483219e+09</td>\n",
              "    </tr>\n",
              "    <tr>\n",
              "      <th>2016-12-31 22:10:00</th>\n",
              "      <td>-2.89</td>\n",
              "      <td>1.483222e+09</td>\n",
              "    </tr>\n",
              "    <tr>\n",
              "      <th>2016-12-31 23:10:00</th>\n",
              "      <td>-3.93</td>\n",
              "      <td>1.483226e+09</td>\n",
              "    </tr>\n",
              "  </tbody>\n",
              "</table>\n",
              "<p>70091 rows × 2 columns</p>\n",
              "</div>"
            ],
            "text/plain": [
              "                     Temperature       Seconds\n",
              "Date Time                                     \n",
              "2009-01-01 01:00:00        -8.05  1.230772e+09\n",
              "2009-01-01 02:00:00        -8.88  1.230775e+09\n",
              "2009-01-01 03:00:00        -8.81  1.230779e+09\n",
              "2009-01-01 04:00:00        -9.05  1.230782e+09\n",
              "2009-01-01 05:00:00        -9.63  1.230786e+09\n",
              "...                          ...           ...\n",
              "2016-12-31 19:10:00        -0.98  1.483211e+09\n",
              "2016-12-31 20:10:00        -1.40  1.483215e+09\n",
              "2016-12-31 21:10:00        -2.75  1.483219e+09\n",
              "2016-12-31 22:10:00        -2.89  1.483222e+09\n",
              "2016-12-31 23:10:00        -3.93  1.483226e+09\n",
              "\n",
              "[70091 rows x 2 columns]"
            ]
          },
          "execution_count": 41,
          "metadata": {},
          "output_type": "execute_result"
        }
      ],
      "source": [
        "temp_df = pd.DataFrame({'Temperature':temp})\n",
        "temp_df['Seconds'] = temp_df.index.map(pd.Timestamp.timestamp)\n",
        "temp_df"
      ]
    },
    {
      "cell_type": "code",
      "execution_count": null,
      "metadata": {
        "colab": {
          "base_uri": "https://localhost:8080/",
          "height": 447
        },
        "id": "trw64ao9GVsj",
        "outputId": "b206a050-021b-47aa-a3bd-0d1bdb468978"
      },
      "outputs": [
        {
          "data": {
            "text/html": [
              "<div>\n",
              "<style scoped>\n",
              "    .dataframe tbody tr th:only-of-type {\n",
              "        vertical-align: middle;\n",
              "    }\n",
              "\n",
              "    .dataframe tbody tr th {\n",
              "        vertical-align: top;\n",
              "    }\n",
              "\n",
              "    .dataframe thead th {\n",
              "        text-align: right;\n",
              "    }\n",
              "</style>\n",
              "<table border=\"1\" class=\"dataframe\">\n",
              "  <thead>\n",
              "    <tr style=\"text-align: right;\">\n",
              "      <th></th>\n",
              "      <th>Temperature</th>\n",
              "      <th>Seconds</th>\n",
              "      <th>Day sin</th>\n",
              "      <th>Day cos</th>\n",
              "      <th>Year sin</th>\n",
              "      <th>Year cos</th>\n",
              "    </tr>\n",
              "    <tr>\n",
              "      <th>Date Time</th>\n",
              "      <th></th>\n",
              "      <th></th>\n",
              "      <th></th>\n",
              "      <th></th>\n",
              "      <th></th>\n",
              "      <th></th>\n",
              "    </tr>\n",
              "  </thead>\n",
              "  <tbody>\n",
              "    <tr>\n",
              "      <th>2009-01-01 01:00:00</th>\n",
              "      <td>-8.05</td>\n",
              "      <td>1.230772e+09</td>\n",
              "      <td>0.258819</td>\n",
              "      <td>0.965926</td>\n",
              "      <td>0.010049</td>\n",
              "      <td>0.999950</td>\n",
              "    </tr>\n",
              "    <tr>\n",
              "      <th>2009-01-01 02:00:00</th>\n",
              "      <td>-8.88</td>\n",
              "      <td>1.230775e+09</td>\n",
              "      <td>0.500000</td>\n",
              "      <td>0.866025</td>\n",
              "      <td>0.010766</td>\n",
              "      <td>0.999942</td>\n",
              "    </tr>\n",
              "    <tr>\n",
              "      <th>2009-01-01 03:00:00</th>\n",
              "      <td>-8.81</td>\n",
              "      <td>1.230779e+09</td>\n",
              "      <td>0.707107</td>\n",
              "      <td>0.707107</td>\n",
              "      <td>0.011483</td>\n",
              "      <td>0.999934</td>\n",
              "    </tr>\n",
              "    <tr>\n",
              "      <th>2009-01-01 04:00:00</th>\n",
              "      <td>-9.05</td>\n",
              "      <td>1.230782e+09</td>\n",
              "      <td>0.866025</td>\n",
              "      <td>0.500000</td>\n",
              "      <td>0.012199</td>\n",
              "      <td>0.999926</td>\n",
              "    </tr>\n",
              "    <tr>\n",
              "      <th>2009-01-01 05:00:00</th>\n",
              "      <td>-9.63</td>\n",
              "      <td>1.230786e+09</td>\n",
              "      <td>0.965926</td>\n",
              "      <td>0.258819</td>\n",
              "      <td>0.012916</td>\n",
              "      <td>0.999917</td>\n",
              "    </tr>\n",
              "    <tr>\n",
              "      <th>...</th>\n",
              "      <td>...</td>\n",
              "      <td>...</td>\n",
              "      <td>...</td>\n",
              "      <td>...</td>\n",
              "      <td>...</td>\n",
              "      <td>...</td>\n",
              "    </tr>\n",
              "    <tr>\n",
              "      <th>2016-12-31 19:10:00</th>\n",
              "      <td>-0.98</td>\n",
              "      <td>1.483211e+09</td>\n",
              "      <td>-0.953717</td>\n",
              "      <td>0.300706</td>\n",
              "      <td>0.006900</td>\n",
              "      <td>0.999976</td>\n",
              "    </tr>\n",
              "    <tr>\n",
              "      <th>2016-12-31 20:10:00</th>\n",
              "      <td>-1.40</td>\n",
              "      <td>1.483215e+09</td>\n",
              "      <td>-0.843391</td>\n",
              "      <td>0.537300</td>\n",
              "      <td>0.007617</td>\n",
              "      <td>0.999971</td>\n",
              "    </tr>\n",
              "    <tr>\n",
              "      <th>2016-12-31 21:10:00</th>\n",
              "      <td>-2.75</td>\n",
              "      <td>1.483219e+09</td>\n",
              "      <td>-0.675590</td>\n",
              "      <td>0.737277</td>\n",
              "      <td>0.008334</td>\n",
              "      <td>0.999965</td>\n",
              "    </tr>\n",
              "    <tr>\n",
              "      <th>2016-12-31 22:10:00</th>\n",
              "      <td>-2.89</td>\n",
              "      <td>1.483222e+09</td>\n",
              "      <td>-0.461749</td>\n",
              "      <td>0.887011</td>\n",
              "      <td>0.009050</td>\n",
              "      <td>0.999959</td>\n",
              "    </tr>\n",
              "    <tr>\n",
              "      <th>2016-12-31 23:10:00</th>\n",
              "      <td>-3.93</td>\n",
              "      <td>1.483226e+09</td>\n",
              "      <td>-0.216440</td>\n",
              "      <td>0.976296</td>\n",
              "      <td>0.009767</td>\n",
              "      <td>0.999952</td>\n",
              "    </tr>\n",
              "  </tbody>\n",
              "</table>\n",
              "<p>70091 rows × 6 columns</p>\n",
              "</div>"
            ],
            "text/plain": [
              "                     Temperature       Seconds  ...  Year sin  Year cos\n",
              "Date Time                                       ...                    \n",
              "2009-01-01 01:00:00        -8.05  1.230772e+09  ...  0.010049  0.999950\n",
              "2009-01-01 02:00:00        -8.88  1.230775e+09  ...  0.010766  0.999942\n",
              "2009-01-01 03:00:00        -8.81  1.230779e+09  ...  0.011483  0.999934\n",
              "2009-01-01 04:00:00        -9.05  1.230782e+09  ...  0.012199  0.999926\n",
              "2009-01-01 05:00:00        -9.63  1.230786e+09  ...  0.012916  0.999917\n",
              "...                          ...           ...  ...       ...       ...\n",
              "2016-12-31 19:10:00        -0.98  1.483211e+09  ...  0.006900  0.999976\n",
              "2016-12-31 20:10:00        -1.40  1.483215e+09  ...  0.007617  0.999971\n",
              "2016-12-31 21:10:00        -2.75  1.483219e+09  ...  0.008334  0.999965\n",
              "2016-12-31 22:10:00        -2.89  1.483222e+09  ...  0.009050  0.999959\n",
              "2016-12-31 23:10:00        -3.93  1.483226e+09  ...  0.009767  0.999952\n",
              "\n",
              "[70091 rows x 6 columns]"
            ]
          },
          "execution_count": 42,
          "metadata": {},
          "output_type": "execute_result"
        }
      ],
      "source": [
        "day = 24*60*60\n",
        "year = (365.2425)*day\n",
        "\n",
        "temp_df['Day sin'] = np.sin(temp_df['Seconds'] * (2 * np.pi / day))\n",
        "temp_df['Day cos'] = np.cos(temp_df['Seconds'] * (2 * np.pi / day))\n",
        "temp_df['Year sin'] = np.sin(temp_df['Seconds'] * (2 * np.pi / year))\n",
        "temp_df['Year cos'] = np.cos(temp_df['Seconds'] * (2 * np.pi / year))\n",
        "temp_df"
      ]
    },
    {
      "cell_type": "code",
      "execution_count": null,
      "metadata": {
        "colab": {
          "base_uri": "https://localhost:8080/",
          "height": 447
        },
        "id": "oHwTktN7CWHM",
        "outputId": "c758e91a-0b5e-4ce5-a101-af7081aa1462"
      },
      "outputs": [
        {
          "data": {
            "text/html": [
              "<div>\n",
              "<style scoped>\n",
              "    .dataframe tbody tr th:only-of-type {\n",
              "        vertical-align: middle;\n",
              "    }\n",
              "\n",
              "    .dataframe tbody tr th {\n",
              "        vertical-align: top;\n",
              "    }\n",
              "\n",
              "    .dataframe thead th {\n",
              "        text-align: right;\n",
              "    }\n",
              "</style>\n",
              "<table border=\"1\" class=\"dataframe\">\n",
              "  <thead>\n",
              "    <tr style=\"text-align: right;\">\n",
              "      <th></th>\n",
              "      <th>Temperature</th>\n",
              "      <th>Day sin</th>\n",
              "      <th>Day cos</th>\n",
              "      <th>Year sin</th>\n",
              "      <th>Year cos</th>\n",
              "    </tr>\n",
              "    <tr>\n",
              "      <th>Date Time</th>\n",
              "      <th></th>\n",
              "      <th></th>\n",
              "      <th></th>\n",
              "      <th></th>\n",
              "      <th></th>\n",
              "    </tr>\n",
              "  </thead>\n",
              "  <tbody>\n",
              "    <tr>\n",
              "      <th>2009-01-01 01:00:00</th>\n",
              "      <td>-8.05</td>\n",
              "      <td>0.258819</td>\n",
              "      <td>0.965926</td>\n",
              "      <td>0.010049</td>\n",
              "      <td>0.999950</td>\n",
              "    </tr>\n",
              "    <tr>\n",
              "      <th>2009-01-01 02:00:00</th>\n",
              "      <td>-8.88</td>\n",
              "      <td>0.500000</td>\n",
              "      <td>0.866025</td>\n",
              "      <td>0.010766</td>\n",
              "      <td>0.999942</td>\n",
              "    </tr>\n",
              "    <tr>\n",
              "      <th>2009-01-01 03:00:00</th>\n",
              "      <td>-8.81</td>\n",
              "      <td>0.707107</td>\n",
              "      <td>0.707107</td>\n",
              "      <td>0.011483</td>\n",
              "      <td>0.999934</td>\n",
              "    </tr>\n",
              "    <tr>\n",
              "      <th>2009-01-01 04:00:00</th>\n",
              "      <td>-9.05</td>\n",
              "      <td>0.866025</td>\n",
              "      <td>0.500000</td>\n",
              "      <td>0.012199</td>\n",
              "      <td>0.999926</td>\n",
              "    </tr>\n",
              "    <tr>\n",
              "      <th>2009-01-01 05:00:00</th>\n",
              "      <td>-9.63</td>\n",
              "      <td>0.965926</td>\n",
              "      <td>0.258819</td>\n",
              "      <td>0.012916</td>\n",
              "      <td>0.999917</td>\n",
              "    </tr>\n",
              "    <tr>\n",
              "      <th>...</th>\n",
              "      <td>...</td>\n",
              "      <td>...</td>\n",
              "      <td>...</td>\n",
              "      <td>...</td>\n",
              "      <td>...</td>\n",
              "    </tr>\n",
              "    <tr>\n",
              "      <th>2016-12-31 19:10:00</th>\n",
              "      <td>-0.98</td>\n",
              "      <td>-0.953717</td>\n",
              "      <td>0.300706</td>\n",
              "      <td>0.006900</td>\n",
              "      <td>0.999976</td>\n",
              "    </tr>\n",
              "    <tr>\n",
              "      <th>2016-12-31 20:10:00</th>\n",
              "      <td>-1.40</td>\n",
              "      <td>-0.843391</td>\n",
              "      <td>0.537300</td>\n",
              "      <td>0.007617</td>\n",
              "      <td>0.999971</td>\n",
              "    </tr>\n",
              "    <tr>\n",
              "      <th>2016-12-31 21:10:00</th>\n",
              "      <td>-2.75</td>\n",
              "      <td>-0.675590</td>\n",
              "      <td>0.737277</td>\n",
              "      <td>0.008334</td>\n",
              "      <td>0.999965</td>\n",
              "    </tr>\n",
              "    <tr>\n",
              "      <th>2016-12-31 22:10:00</th>\n",
              "      <td>-2.89</td>\n",
              "      <td>-0.461749</td>\n",
              "      <td>0.887011</td>\n",
              "      <td>0.009050</td>\n",
              "      <td>0.999959</td>\n",
              "    </tr>\n",
              "    <tr>\n",
              "      <th>2016-12-31 23:10:00</th>\n",
              "      <td>-3.93</td>\n",
              "      <td>-0.216440</td>\n",
              "      <td>0.976296</td>\n",
              "      <td>0.009767</td>\n",
              "      <td>0.999952</td>\n",
              "    </tr>\n",
              "  </tbody>\n",
              "</table>\n",
              "<p>70091 rows × 5 columns</p>\n",
              "</div>"
            ],
            "text/plain": [
              "                     Temperature   Day sin   Day cos  Year sin  Year cos\n",
              "Date Time                                                               \n",
              "2009-01-01 01:00:00        -8.05  0.258819  0.965926  0.010049  0.999950\n",
              "2009-01-01 02:00:00        -8.88  0.500000  0.866025  0.010766  0.999942\n",
              "2009-01-01 03:00:00        -8.81  0.707107  0.707107  0.011483  0.999934\n",
              "2009-01-01 04:00:00        -9.05  0.866025  0.500000  0.012199  0.999926\n",
              "2009-01-01 05:00:00        -9.63  0.965926  0.258819  0.012916  0.999917\n",
              "...                          ...       ...       ...       ...       ...\n",
              "2016-12-31 19:10:00        -0.98 -0.953717  0.300706  0.006900  0.999976\n",
              "2016-12-31 20:10:00        -1.40 -0.843391  0.537300  0.007617  0.999971\n",
              "2016-12-31 21:10:00        -2.75 -0.675590  0.737277  0.008334  0.999965\n",
              "2016-12-31 22:10:00        -2.89 -0.461749  0.887011  0.009050  0.999959\n",
              "2016-12-31 23:10:00        -3.93 -0.216440  0.976296  0.009767  0.999952\n",
              "\n",
              "[70091 rows x 5 columns]"
            ]
          },
          "execution_count": 43,
          "metadata": {},
          "output_type": "execute_result"
        }
      ],
      "source": [
        "temp_df = temp_df.drop('Seconds', axis=1)\n",
        "temp_df"
      ]
    },
    {
      "cell_type": "code",
      "execution_count": null,
      "metadata": {
        "id": "pQSGTWaPL-E5"
      },
      "outputs": [],
      "source": [
        "def df_to_X_y2(df, window_size=6):\n",
        "  df_as_np = df.to_numpy()\n",
        "  X = []\n",
        "  y = []\n",
        "  for i in range(len(df_as_np)-window_size):\n",
        "    row = [r for r in df_as_np[i:i+window_size]]\n",
        "    X.append(row)\n",
        "    label = df_as_np[i+window_size][0]\n",
        "    y.append(label)\n",
        "  return np.array(X), np.array(y)"
      ]
    },
    {
      "cell_type": "code",
      "execution_count": null,
      "metadata": {
        "colab": {
          "base_uri": "https://localhost:8080/"
        },
        "id": "ItaFUqTsCyna",
        "outputId": "3af2900d-062a-4473-d33d-42f75c85e19e"
      },
      "outputs": [
        {
          "data": {
            "text/plain": [
              "((70085, 6, 5), (70085,))"
            ]
          },
          "execution_count": 45,
          "metadata": {},
          "output_type": "execute_result"
        }
      ],
      "source": [
        "X2, y2 = df_to_X_y2(temp_df)\n",
        "X2.shape, y2.shape"
      ]
    },
    {
      "cell_type": "code",
      "execution_count": null,
      "metadata": {
        "colab": {
          "base_uri": "https://localhost:8080/"
        },
        "id": "AmtFJ_0pD-xh",
        "outputId": "8793bef1-9040-4a04-97fe-21d54bb5fd90"
      },
      "outputs": [
        {
          "data": {
            "text/plain": [
              "((60000, 6, 5), (60000,), (5000, 6, 5), (5000,), (5085, 6, 5), (5085,))"
            ]
          },
          "execution_count": 47,
          "metadata": {},
          "output_type": "execute_result"
        }
      ],
      "source": [
        "X2_train, y2_train = X2[:60000], y2[:60000]\n",
        "X2_val, y2_val = X2[60000:65000], y2[60000:65000]\n",
        "X2_test, y2_test = X2[65000:], y2[65000:]\n",
        "X2_train.shape, y2_train.shape, X2_val.shape, y2_val.shape, X2_test.shape, y2_test.shape"
      ]
    },
    {
      "cell_type": "code",
      "execution_count": null,
      "metadata": {
        "id": "a51kf2YbGlio"
      },
      "outputs": [],
      "source": [
        "temp_training_mean = np.mean(X2_train[:, :, 0])\n",
        "temp_training_std = np.std(X2_train[:, :, 0])\n",
        "\n",
        "def preprocess(X):\n",
        "  X[:, :, 0] = (X[:, :, 0] - temp_training_mean) / temp_training_std\n",
        "  return X"
      ]
    },
    {
      "cell_type": "code",
      "execution_count": null,
      "metadata": {
        "colab": {
          "base_uri": "https://localhost:8080/"
        },
        "id": "CLnCvqyfHPDs",
        "outputId": "aecbb65b-3d08-4e19-b95d-ec76de72c56a"
      },
      "outputs": [
        {
          "data": {
            "text/plain": [
              "array([[[ 1.04009706e+00, -9.65925826e-01,  2.58819045e-01,\n",
              "          5.22877889e-01, -8.52407598e-01],\n",
              "        [ 9.90732794e-01, -8.66025404e-01,  5.00000000e-01,\n",
              "          5.22266764e-01, -8.52782169e-01],\n",
              "        [ 8.49692028e-01, -7.07106781e-01,  7.07106781e-01,\n",
              "          5.21655371e-01, -8.53156301e-01],\n",
              "        [ 7.55664851e-01, -5.00000000e-01,  8.66025404e-01,\n",
              "          5.21043709e-01, -8.53529995e-01],\n",
              "        [ 6.66339032e-01, -2.58819045e-01,  9.65925826e-01,\n",
              "          5.20431780e-01, -8.53903251e-01],\n",
              "        [ 5.37051663e-01, -7.16474371e-12,  1.00000000e+00,\n",
              "          5.19819584e-01, -8.54276068e-01]],\n",
              "\n",
              "       [[ 9.90732794e-01, -8.66025404e-01,  5.00000000e-01,\n",
              "          5.22266764e-01, -8.52782169e-01],\n",
              "        [ 8.49692028e-01, -7.07106781e-01,  7.07106781e-01,\n",
              "          5.21655371e-01, -8.53156301e-01],\n",
              "        [ 7.55664851e-01, -5.00000000e-01,  8.66025404e-01,\n",
              "          5.21043709e-01, -8.53529995e-01],\n",
              "        [ 6.66339032e-01, -2.58819045e-01,  9.65925826e-01,\n",
              "          5.20431780e-01, -8.53903251e-01],\n",
              "        [ 5.37051663e-01, -7.16474371e-12,  1.00000000e+00,\n",
              "          5.19819584e-01, -8.54276068e-01],\n",
              "        [ 4.74758658e-01,  2.58819045e-01,  9.65925826e-01,\n",
              "          5.19207120e-01, -8.54648446e-01]],\n",
              "\n",
              "       [[ 8.49692028e-01, -7.07106781e-01,  7.07106781e-01,\n",
              "          5.21655371e-01, -8.53156301e-01],\n",
              "        [ 7.55664851e-01, -5.00000000e-01,  8.66025404e-01,\n",
              "          5.21043709e-01, -8.53529995e-01],\n",
              "        [ 6.66339032e-01, -2.58819045e-01,  9.65925826e-01,\n",
              "          5.20431780e-01, -8.53903251e-01],\n",
              "        [ 5.37051663e-01, -7.16474371e-12,  1.00000000e+00,\n",
              "          5.19819584e-01, -8.54276068e-01],\n",
              "        [ 4.74758658e-01,  2.58819045e-01,  9.65925826e-01,\n",
              "          5.19207120e-01, -8.54648446e-01],\n",
              "        [ 4.12465653e-01,  5.00000000e-01,  8.66025404e-01,\n",
              "          5.18594390e-01, -8.55020385e-01]],\n",
              "\n",
              "       ...,\n",
              "\n",
              "       [[-5.23104762e-01, -7.37277337e-01, -6.75590208e-01,\n",
              "          4.03308458e-03,  9.99991867e-01],\n",
              "        [-8.20465711e-01, -8.87010833e-01, -4.61748613e-01,\n",
              "          4.74986003e-03,  9.99988719e-01],\n",
              "        [-9.55629779e-01, -9.76296007e-01, -2.16439614e-01,\n",
              "          5.46663304e-03,  9.99985058e-01],\n",
              "        [-1.15661287e+00, -9.99048222e-01,  4.36193874e-02,\n",
              "          6.18340325e-03,  9.99980883e-01],\n",
              "        [-1.22243189e+00, -9.53716951e-01,  3.00705799e-01,\n",
              "          6.90017027e-03,  9.99976194e-01],\n",
              "        [-1.27179616e+00, -8.43391446e-01,  5.37299608e-01,\n",
              "          7.61693375e-03,  9.99970991e-01]],\n",
              "\n",
              "       [[-8.20465711e-01, -8.87010833e-01, -4.61748613e-01,\n",
              "          4.74986003e-03,  9.99988719e-01],\n",
              "        [-9.55629779e-01, -9.76296007e-01, -2.16439614e-01,\n",
              "          5.46663304e-03,  9.99985058e-01],\n",
              "        [-1.15661287e+00, -9.99048222e-01,  4.36193874e-02,\n",
              "          6.18340325e-03,  9.99980883e-01],\n",
              "        [-1.22243189e+00, -9.53716951e-01,  3.00705799e-01,\n",
              "          6.90017027e-03,  9.99976194e-01],\n",
              "        [-1.27179616e+00, -8.43391446e-01,  5.37299608e-01,\n",
              "          7.61693375e-03,  9.99970991e-01],\n",
              "        [-1.43046702e+00, -6.75590208e-01,  7.37277337e-01,\n",
              "          8.33369332e-03,  9.99965274e-01]],\n",
              "\n",
              "       [[-9.55629779e-01, -9.76296007e-01, -2.16439614e-01,\n",
              "          5.46663304e-03,  9.99985058e-01],\n",
              "        [-1.15661287e+00, -9.99048222e-01,  4.36193874e-02,\n",
              "          6.18340325e-03,  9.99980883e-01],\n",
              "        [-1.22243189e+00, -9.53716951e-01,  3.00705799e-01,\n",
              "          6.90017027e-03,  9.99976194e-01],\n",
              "        [-1.27179616e+00, -8.43391446e-01,  5.37299608e-01,\n",
              "          7.61693375e-03,  9.99970991e-01],\n",
              "        [-1.43046702e+00, -6.75590208e-01,  7.37277337e-01,\n",
              "          8.33369332e-03,  9.99965274e-01],\n",
              "        [-1.44692178e+00, -4.61748613e-01,  8.87010833e-01,\n",
              "          9.05044860e-03,  9.99959044e-01]]])"
            ]
          },
          "execution_count": 49,
          "metadata": {},
          "output_type": "execute_result"
        }
      ],
      "source": [
        "preprocess(X2_train)\n",
        "preprocess(X2_val)\n",
        "preprocess(X2_test)"
      ]
    },
    {
      "cell_type": "code",
      "execution_count": null,
      "metadata": {
        "colab": {
          "base_uri": "https://localhost:8080/"
        },
        "id": "AER68ty-DDK4",
        "outputId": "cb6ebf99-1b7c-417d-951c-78b83a247ebd"
      },
      "outputs": [
        {
          "name": "stdout",
          "output_type": "stream",
          "text": [
            "Model: \"sequential_5\"\n",
            "_________________________________________________________________\n",
            "Layer (type)                 Output Shape              Param #   \n",
            "=================================================================\n",
            "lstm_2 (LSTM)                (None, 64)                17920     \n",
            "_________________________________________________________________\n",
            "dense_10 (Dense)             (None, 8)                 520       \n",
            "_________________________________________________________________\n",
            "dense_11 (Dense)             (None, 1)                 9         \n",
            "=================================================================\n",
            "Total params: 18,449\n",
            "Trainable params: 18,449\n",
            "Non-trainable params: 0\n",
            "_________________________________________________________________\n"
          ]
        }
      ],
      "source": [
        "model4 = Sequential()\n",
        "model4.add(InputLayer((6, 5)))\n",
        "model4.add(LSTM(64))\n",
        "model4.add(Dense(8, 'relu'))\n",
        "model4.add(Dense(1, 'linear'))\n",
        "\n",
        "model4.summary()"
      ]
    },
    {
      "cell_type": "code",
      "execution_count": null,
      "metadata": {
        "id": "nYWXv67bENSm"
      },
      "outputs": [],
      "source": [
        "cp4 = ModelCheckpoint('model4/', save_best_only=True)\n",
        "model4.compile(loss=MeanSquaredError(), optimizer=Adam(learning_rate=0.0001), metrics=[RootMeanSquaredError()])"
      ]
    },
    {
      "cell_type": "code",
      "execution_count": null,
      "metadata": {
        "id": "nodJelV-EZRI"
      },
      "outputs": [],
      "source": [
        "model4.fit(X2_train, y2_train, validation_data=(X2_val, y2_val), epochs=10, callbacks=[cp4])"
      ]
    },
    {
      "cell_type": "code",
      "execution_count": null,
      "metadata": {
        "colab": {
          "base_uri": "https://localhost:8080/",
          "height": 503
        },
        "id": "jAgqCN2XEhNs",
        "outputId": "719f3825-808d-493d-c686-ac0ec1a3b85f"
      },
      "outputs": [
        {
          "data": {
            "text/plain": [
              "(      Predictions  Actuals\n",
              " 0        1.270767    13.46\n",
              " 1        1.065866    12.93\n",
              " 2        0.886102    12.43\n",
              " 3        0.762327    12.17\n",
              " 4        0.687246    11.55\n",
              " ...           ...      ...\n",
              " 5080    -0.123489    -0.98\n",
              " 5081    -0.125271    -1.40\n",
              " 5082    -0.130911    -2.75\n",
              " 5083    -0.147739    -2.89\n",
              " 5084    -0.161792    -3.93\n",
              " \n",
              " [5085 rows x 2 columns], 184.3117044089246)"
            ]
          },
          "execution_count": 53,
          "metadata": {},
          "output_type": "execute_result"
        },
        {
          "data": {
            "image/png": "[encoded data removed]",
            "text/plain": [
              "<Figure size 432x288 with 1 Axes>"
            ]
          },
          "metadata": {
            "needs_background": "light"
          },
          "output_type": "display_data"
        }
      ],
      "source": [
        "plot_predictions1(model4, X2_test, y2_test)"
      ]
    },
    {
      "cell_type": "code",
      "execution_count": null,
      "metadata": {
        "colab": {
          "base_uri": "https://localhost:8080/",
          "height": 447
        },
        "id": "evOTkLI4Phga",
        "outputId": "789806c9-2823-4ca5-ebed-65d021e8a00a"
      },
      "outputs": [
        {
          "data": {
            "text/html": [
              "<div>\n",
              "<style scoped>\n",
              "    .dataframe tbody tr th:only-of-type {\n",
              "        vertical-align: middle;\n",
              "    }\n",
              "\n",
              "    .dataframe tbody tr th {\n",
              "        vertical-align: top;\n",
              "    }\n",
              "\n",
              "    .dataframe thead th {\n",
              "        text-align: right;\n",
              "    }\n",
              "</style>\n",
              "<table border=\"1\" class=\"dataframe\">\n",
              "  <thead>\n",
              "    <tr style=\"text-align: right;\">\n",
              "      <th></th>\n",
              "      <th>p (mbar)</th>\n",
              "      <th>Temperature</th>\n",
              "      <th>Day sin</th>\n",
              "      <th>Day cos</th>\n",
              "      <th>Year sin</th>\n",
              "      <th>Year cos</th>\n",
              "    </tr>\n",
              "    <tr>\n",
              "      <th>Date Time</th>\n",
              "      <th></th>\n",
              "      <th></th>\n",
              "      <th></th>\n",
              "      <th></th>\n",
              "      <th></th>\n",
              "      <th></th>\n",
              "    </tr>\n",
              "  </thead>\n",
              "  <tbody>\n",
              "    <tr>\n",
              "      <th>2009-01-01 01:00:00</th>\n",
              "      <td>996.50</td>\n",
              "      <td>-8.05</td>\n",
              "      <td>0.258819</td>\n",
              "      <td>0.965926</td>\n",
              "      <td>0.010049</td>\n",
              "      <td>0.999950</td>\n",
              "    </tr>\n",
              "    <tr>\n",
              "      <th>2009-01-01 02:00:00</th>\n",
              "      <td>996.62</td>\n",
              "      <td>-8.88</td>\n",
              "      <td>0.500000</td>\n",
              "      <td>0.866025</td>\n",
              "      <td>0.010766</td>\n",
              "      <td>0.999942</td>\n",
              "    </tr>\n",
              "    <tr>\n",
              "      <th>2009-01-01 03:00:00</th>\n",
              "      <td>996.84</td>\n",
              "      <td>-8.81</td>\n",
              "      <td>0.707107</td>\n",
              "      <td>0.707107</td>\n",
              "      <td>0.011483</td>\n",
              "      <td>0.999934</td>\n",
              "    </tr>\n",
              "    <tr>\n",
              "      <th>2009-01-01 04:00:00</th>\n",
              "      <td>996.99</td>\n",
              "      <td>-9.05</td>\n",
              "      <td>0.866025</td>\n",
              "      <td>0.500000</td>\n",
              "      <td>0.012199</td>\n",
              "      <td>0.999926</td>\n",
              "    </tr>\n",
              "    <tr>\n",
              "      <th>2009-01-01 05:00:00</th>\n",
              "      <td>997.46</td>\n",
              "      <td>-9.63</td>\n",
              "      <td>0.965926</td>\n",
              "      <td>0.258819</td>\n",
              "      <td>0.012916</td>\n",
              "      <td>0.999917</td>\n",
              "    </tr>\n",
              "    <tr>\n",
              "      <th>...</th>\n",
              "      <td>...</td>\n",
              "      <td>...</td>\n",
              "      <td>...</td>\n",
              "      <td>...</td>\n",
              "      <td>...</td>\n",
              "      <td>...</td>\n",
              "    </tr>\n",
              "    <tr>\n",
              "      <th>2016-12-31 19:10:00</th>\n",
              "      <td>1002.18</td>\n",
              "      <td>-0.98</td>\n",
              "      <td>-0.953717</td>\n",
              "      <td>0.300706</td>\n",
              "      <td>0.006900</td>\n",
              "      <td>0.999976</td>\n",
              "    </tr>\n",
              "    <tr>\n",
              "      <th>2016-12-31 20:10:00</th>\n",
              "      <td>1001.40</td>\n",
              "      <td>-1.40</td>\n",
              "      <td>-0.843391</td>\n",
              "      <td>0.537300</td>\n",
              "      <td>0.007617</td>\n",
              "      <td>0.999971</td>\n",
              "    </tr>\n",
              "    <tr>\n",
              "      <th>2016-12-31 21:10:00</th>\n",
              "      <td>1001.19</td>\n",
              "      <td>-2.75</td>\n",
              "      <td>-0.675590</td>\n",
              "      <td>0.737277</td>\n",
              "      <td>0.008334</td>\n",
              "      <td>0.999965</td>\n",
              "    </tr>\n",
              "    <tr>\n",
              "      <th>2016-12-31 22:10:00</th>\n",
              "      <td>1000.65</td>\n",
              "      <td>-2.89</td>\n",
              "      <td>-0.461749</td>\n",
              "      <td>0.887011</td>\n",
              "      <td>0.009050</td>\n",
              "      <td>0.999959</td>\n",
              "    </tr>\n",
              "    <tr>\n",
              "      <th>2016-12-31 23:10:00</th>\n",
              "      <td>1000.11</td>\n",
              "      <td>-3.93</td>\n",
              "      <td>-0.216440</td>\n",
              "      <td>0.976296</td>\n",
              "      <td>0.009767</td>\n",
              "      <td>0.999952</td>\n",
              "    </tr>\n",
              "  </tbody>\n",
              "</table>\n",
              "<p>70091 rows × 6 columns</p>\n",
              "</div>"
            ],
            "text/plain": [
              "                     p (mbar)  Temperature  ...  Year sin  Year cos\n",
              "Date Time                                   ...                    \n",
              "2009-01-01 01:00:00    996.50        -8.05  ...  0.010049  0.999950\n",
              "2009-01-01 02:00:00    996.62        -8.88  ...  0.010766  0.999942\n",
              "2009-01-01 03:00:00    996.84        -8.81  ...  0.011483  0.999934\n",
              "2009-01-01 04:00:00    996.99        -9.05  ...  0.012199  0.999926\n",
              "2009-01-01 05:00:00    997.46        -9.63  ...  0.012916  0.999917\n",
              "...                       ...          ...  ...       ...       ...\n",
              "2016-12-31 19:10:00   1002.18        -0.98  ...  0.006900  0.999976\n",
              "2016-12-31 20:10:00   1001.40        -1.40  ...  0.007617  0.999971\n",
              "2016-12-31 21:10:00   1001.19        -2.75  ...  0.008334  0.999965\n",
              "2016-12-31 22:10:00   1000.65        -2.89  ...  0.009050  0.999959\n",
              "2016-12-31 23:10:00   1000.11        -3.93  ...  0.009767  0.999952\n",
              "\n",
              "[70091 rows x 6 columns]"
            ]
          },
          "execution_count": 54,
          "metadata": {},
          "output_type": "execute_result"
        }
      ],
      "source": [
        "p_temp_df = pd.concat([df['p (mbar)'], temp_df], axis=1)\n",
        "p_temp_df"
      ]
    },
    {
      "cell_type": "code",
      "execution_count": null,
      "metadata": {
        "id": "qCLh2-T8RgS4"
      },
      "outputs": [],
      "source": [
        "def df_to_X_y3(df, window_size=7):\n",
        "  df_as_np = df.to_numpy()\n",
        "  X = []\n",
        "  y = []\n",
        "  for i in range(len(df_as_np)-window_size):\n",
        "    row = [r for r in df_as_np[i:i+window_size]]\n",
        "    X.append(row)\n",
        "    label = [df_as_np[i+window_size][0], df_as_np[i+window_size][1]]\n",
        "    y.append(label)\n",
        "  return np.array(X), np.array(y)"
      ]
    },
    {
      "cell_type": "code",
      "execution_count": null,
      "metadata": {
        "colab": {
          "base_uri": "https://localhost:8080/"
        },
        "id": "VpuUPN1cSzdk",
        "outputId": "925f113a-190f-470b-dd66-b03170c5d887"
      },
      "outputs": [
        {
          "data": {
            "text/plain": [
              "((70084, 7, 6), (70084, 2))"
            ]
          },
          "execution_count": 56,
          "metadata": {},
          "output_type": "execute_result"
        }
      ],
      "source": [
        "X3, y3 = df_to_X_y3(p_temp_df)\n",
        "X3.shape, y3.shape"
      ]
    },
    {
      "cell_type": "code",
      "execution_count": null,
      "metadata": {
        "colab": {
          "base_uri": "https://localhost:8080/"
        },
        "id": "_wzVmWCVUMYY",
        "outputId": "da570e15-02e9-40d7-8cda-f24c7929bcdc"
      },
      "outputs": [
        {
          "data": {
            "text/plain": [
              "((60000, 7, 6), (60000, 2), (5000, 7, 6), (5000, 2), (5084, 7, 6), (5084, 2))"
            ]
          },
          "execution_count": 57,
          "metadata": {},
          "output_type": "execute_result"
        }
      ],
      "source": [
        "X3_train, y3_train = X3[:60000], y3[:60000]\n",
        "X3_val, y3_val = X3[60000:65000], y3[60000:65000]\n",
        "X3_test, y3_test = X3[65000:], y3[65000:]\n",
        "X3_train.shape, y3_train.shape, X3_val.shape, y3_val.shape, X3_test.shape, y3_test.shape"
      ]
    },
    {
      "cell_type": "code",
      "execution_count": null,
      "metadata": {
        "id": "GGbZvLocUY54"
      },
      "outputs": [],
      "source": [
        "p_training_mean3 = np.mean(X3_train[:, :, 0])\n",
        "p_training_std3 = np.std(X3_train[:, :, 0])\n",
        "\n",
        "temp_training_mean3 = np.mean(X3_train[:, :, 1])\n",
        "temp_training_std3 = np.std(X3_train[:, :, 1])\n",
        "\n",
        "def preprocess3(X):\n",
        "  X[:, :, 0] = (X[:, :, 0] - p_training_mean3) / p_training_std3\n",
        "  X[:, :, 1] = (X[:, :, 1] - temp_training_mean3) / temp_training_std3\n",
        "  return X\n",
        "\n",
        "def preprocess_output(y):\n",
        "  y[:, 0] = (y[:, 0] - p_training_mean3) / p_training_std3\n",
        "  y[:, 1] = (y[:, 1] - temp_training_mean3) / temp_training_std3\n",
        "  return y"
      ]
    },
    {
      "cell_type": "code",
      "execution_count": null,
      "metadata": {
        "colab": {
          "base_uri": "https://localhost:8080/"
        },
        "id": "8YTj2X6CU_1J",
        "outputId": "aac36bbf-0390-4340-d12e-ababaeab1943"
      },
      "outputs": [
        {
          "data": {
            "text/plain": [
              "array([[[-1.07355644e+00,  1.04009390e+00, -9.65925826e-01,\n",
              "          2.58819045e-01,  5.22877889e-01, -8.52407598e-01],\n",
              "        [-1.00807435e+00,  9.90728707e-01, -8.66025404e-01,\n",
              "          5.00000000e-01,  5.22266764e-01, -8.52782169e-01],\n",
              "        [-9.51080673e-01,  8.49685305e-01, -7.07106781e-01,\n",
              "          7.07106781e-01,  5.21655371e-01, -8.53156301e-01],\n",
              "        ...,\n",
              "        [-8.80748054e-01,  6.66328883e-01, -2.58819045e-01,\n",
              "          9.65925826e-01,  5.20431780e-01, -8.53903251e-01],\n",
              "        [-8.29817537e-01,  5.37039098e-01, -7.16474371e-12,\n",
              "          1.00000000e+00,  5.19819584e-01, -8.54276068e-01],\n",
              "        [-8.01927015e-01,  4.74744929e-01,  2.58819045e-01,\n",
              "          9.65925826e-01,  5.19207120e-01, -8.54648446e-01]],\n",
              "\n",
              "       [[-1.00807435e+00,  9.90728707e-01, -8.66025404e-01,\n",
              "          5.00000000e-01,  5.22266764e-01, -8.52782169e-01],\n",
              "        [-9.51080673e-01,  8.49685305e-01, -7.07106781e-01,\n",
              "          7.07106781e-01,  5.21655371e-01, -8.53156301e-01],\n",
              "        [-9.14701732e-01,  7.55656370e-01, -5.00000000e-01,\n",
              "          8.66025404e-01,  5.21043709e-01, -8.53529995e-01],\n",
              "        ...,\n",
              "        [-8.29817537e-01,  5.37039098e-01, -7.16474371e-12,\n",
              "          1.00000000e+00,  5.19819584e-01, -8.54276068e-01],\n",
              "        [-8.01927015e-01,  4.74744929e-01,  2.58819045e-01,\n",
              "          9.65925826e-01,  5.19207120e-01, -8.54648446e-01],\n",
              "        [-7.93438596e-01,  4.12450760e-01,  5.00000000e-01,\n",
              "          8.66025404e-01,  5.18594390e-01, -8.55020385e-01]],\n",
              "\n",
              "       [[-9.51080673e-01,  8.49685305e-01, -7.07106781e-01,\n",
              "          7.07106781e-01,  5.21655371e-01, -8.53156301e-01],\n",
              "        [-9.14701732e-01,  7.55656370e-01, -5.00000000e-01,\n",
              "          8.66025404e-01,  5.21043709e-01, -8.53529995e-01],\n",
              "        [-8.80748054e-01,  6.66328883e-01, -2.58819045e-01,\n",
              "          9.65925826e-01,  5.20431780e-01, -8.53903251e-01],\n",
              "        ...,\n",
              "        [-8.01927015e-01,  4.74744929e-01,  2.58819045e-01,\n",
              "          9.65925826e-01,  5.19207120e-01, -8.54648446e-01],\n",
              "        [-7.93438596e-01,  4.12450760e-01,  5.00000000e-01,\n",
              "          8.66025404e-01,  5.18594390e-01, -8.55020385e-01],\n",
              "        [-7.63122812e-01,  3.53682676e-01,  7.07106781e-01,\n",
              "          7.07106781e-01,  5.17981393e-01, -8.55391885e-01]],\n",
              "\n",
              "       ...,\n",
              "\n",
              "       [[ 1.73125990e+00, -6.19516796e-01, -5.37299608e-01,\n",
              "         -8.43391446e-01,  3.31630706e-03,  9.99994501e-01],\n",
              "        [ 1.71185780e+00, -5.23137138e-01, -7.37277337e-01,\n",
              "         -6.75590208e-01,  4.03308458e-03,  9.99991867e-01],\n",
              "        [ 1.64516307e+00, -8.20503643e-01, -8.87010833e-01,\n",
              "         -4.61748613e-01,  4.74986003e-03,  9.99988719e-01],\n",
              "        ...,\n",
              "        [ 1.61242203e+00, -1.15665708e+00, -9.99048222e-01,\n",
              "          4.36193874e-02,  6.18340325e-03,  9.99980883e-01],\n",
              "        [ 1.60150834e+00, -1.22247734e+00, -9.53716951e-01,\n",
              "          3.00705799e-01,  6.90017027e-03,  9.99976194e-01],\n",
              "        [ 1.50692310e+00, -1.27184253e+00, -8.43391446e-01,\n",
              "          5.37299608e-01,  7.61693375e-03,  9.99970991e-01]],\n",
              "\n",
              "       [[ 1.71185780e+00, -5.23137138e-01, -7.37277337e-01,\n",
              "         -6.75590208e-01,  4.03308458e-03,  9.99991867e-01],\n",
              "        [ 1.64516307e+00, -8.20503643e-01, -8.87010833e-01,\n",
              "         -4.61748613e-01,  4.74986003e-03,  9.99988719e-01],\n",
              "        [ 1.63182413e+00, -9.55670237e-01, -9.76296007e-01,\n",
              "         -2.16439614e-01,  5.46663304e-03,  9.99985058e-01],\n",
              "        ...,\n",
              "        [ 1.60150834e+00, -1.22247734e+00, -9.53716951e-01,\n",
              "          3.00705799e-01,  6.90017027e-03,  9.99976194e-01],\n",
              "        [ 1.50692310e+00, -1.27184253e+00, -8.43391446e-01,\n",
              "          5.37299608e-01,  7.61693375e-03,  9.99970991e-01],\n",
              "        [ 1.48145784e+00, -1.43051636e+00, -6.75590208e-01,\n",
              "          7.37277337e-01,  8.33369332e-03,  9.99965274e-01]],\n",
              "\n",
              "       [[ 1.64516307e+00, -8.20503643e-01, -8.87010833e-01,\n",
              "         -4.61748613e-01,  4.74986003e-03,  9.99988719e-01],\n",
              "        [ 1.63182413e+00, -9.55670237e-01, -9.76296007e-01,\n",
              "         -2.16439614e-01,  5.46663304e-03,  9.99985058e-01],\n",
              "        [ 1.61242203e+00, -1.15665708e+00, -9.99048222e-01,\n",
              "          4.36193874e-02,  6.18340325e-03,  9.99980883e-01],\n",
              "        ...,\n",
              "        [ 1.50692310e+00, -1.27184253e+00, -8.43391446e-01,\n",
              "          5.37299608e-01,  7.61693375e-03,  9.99970991e-01],\n",
              "        [ 1.48145784e+00, -1.43051636e+00, -6.75590208e-01,\n",
              "          7.37277337e-01,  8.33369332e-03,  9.99965274e-01],\n",
              "        [ 1.41597574e+00, -1.44697142e+00, -4.61748613e-01,\n",
              "          8.87010833e-01,  9.05044860e-03,  9.99959044e-01]]])"
            ]
          },
          "execution_count": 59,
          "metadata": {},
          "output_type": "execute_result"
        }
      ],
      "source": [
        "preprocess3(X3_train)\n",
        "preprocess3(X3_val)\n",
        "preprocess3(X3_test)"
      ]
    },
    {
      "cell_type": "code",
      "execution_count": null,
      "metadata": {
        "colab": {
          "base_uri": "https://localhost:8080/"
        },
        "id": "RKOm6mRLXgFZ",
        "outputId": "6dafb59f-9f0c-4382-f589-b7b2479c8685"
      },
      "outputs": [
        {
          "data": {
            "text/plain": [
              "array([[-0.7934386 ,  0.41245076],\n",
              "       [-0.76312281,  0.35368268],\n",
              "       [-0.72189335,  0.32312327],\n",
              "       ...,\n",
              "       [ 1.48145784, -1.43051636],\n",
              "       [ 1.41597574, -1.44697142],\n",
              "       [ 1.35049365, -1.56920903]])"
            ]
          },
          "execution_count": 60,
          "metadata": {},
          "output_type": "execute_result"
        }
      ],
      "source": [
        "preprocess_output(y3_train)\n",
        "preprocess_output(y3_val)\n",
        "preprocess_output(y3_test)"
      ]
    },
    {
      "cell_type": "code",
      "execution_count": null,
      "metadata": {
        "colab": {
          "base_uri": "https://localhost:8080/"
        },
        "id": "ypEqobuNTg53",
        "outputId": "026cbebf-78d8-4810-fb7f-28830c770c67"
      },
      "outputs": [
        {
          "name": "stdout",
          "output_type": "stream",
          "text": [
            "Model: \"sequential_6\"\n",
            "_________________________________________________________________\n",
            "Layer (type)                 Output Shape              Param #   \n",
            "=================================================================\n",
            "lstm_3 (LSTM)                (None, 64)                18176     \n",
            "_________________________________________________________________\n",
            "dense_12 (Dense)             (None, 8)                 520       \n",
            "_________________________________________________________________\n",
            "dense_13 (Dense)             (None, 2)                 18        \n",
            "=================================================================\n",
            "Total params: 18,714\n",
            "Trainable params: 18,714\n",
            "Non-trainable params: 0\n",
            "_________________________________________________________________\n"
          ]
        }
      ],
      "source": [
        "model5 = Sequential()\n",
        "model5.add(InputLayer((7, 6)))\n",
        "model5.add(LSTM(64))\n",
        "model5.add(Dense(8, 'relu'))\n",
        "model5.add(Dense(2, 'linear'))\n",
        "\n",
        "model5.summary()"
      ]
    },
    {
      "cell_type": "code",
      "execution_count": null,
      "metadata": {
        "id": "q25hb7rXUCDI"
      },
      "outputs": [],
      "source": [
        "cp5 = ModelCheckpoint('model5/', save_best_only=True)\n",
        "model5.compile(loss=MeanSquaredError(), optimizer=Adam(learning_rate=0.0001), metrics=[RootMeanSquaredError()])"
      ]
    },
    {
      "cell_type": "code",
      "execution_count": null,
      "metadata": {
        "colab": {
          "base_uri": "https://localhost:8080/",
          "height": 337
        },
        "id": "t_xyuPiZUJ_n",
        "outputId": "94b1604f-9681-4c7d-ce22-c8ef05a3dc3b"
      },
      "outputs": [
        {
          "name": "stdout",
          "output_type": "stream",
          "text": [
            "Epoch 1/10\n",
            " 375/1875 [=====>........................] - ETA: 8s - loss: 0.0713 - root_mean_squared_error: 0.2670"
          ]
        },
        {
          "ename": "KeyboardInterrupt",
          "evalue": "ignored",
          "output_type": "error",
          "traceback": [
            "\u001b[0;31m---------------------------------------------------------------------------\u001b[0m",
            "\u001b[0;31mKeyboardInterrupt\u001b[0m                         Traceback (most recent call last)",
            "\u001b[0;32m<ipython-input-64-6d1265bbe464>\u001b[0m in \u001b[0;36m<module>\u001b[0;34m()\u001b[0m\n\u001b[0;32m----> 1\u001b[0;31m \u001b[0mmodel5\u001b[0m\u001b[0;34m.\u001b[0m\u001b[0mfit\u001b[0m\u001b[0;34m(\u001b[0m\u001b[0mX3_train\u001b[0m\u001b[0;34m,\u001b[0m \u001b[0my3_train\u001b[0m\u001b[0;34m,\u001b[0m \u001b[0mvalidation_data\u001b[0m\u001b[0;34m=\u001b[0m\u001b[0;34m(\u001b[0m\u001b[0mX3_val\u001b[0m\u001b[0;34m,\u001b[0m \u001b[0my3_val\u001b[0m\u001b[0;34m)\u001b[0m\u001b[0;34m,\u001b[0m \u001b[0mepochs\u001b[0m\u001b[0;34m=\u001b[0m\u001b[0;36m10\u001b[0m\u001b[0;34m,\u001b[0m \u001b[0mcallbacks\u001b[0m\u001b[0;34m=\u001b[0m\u001b[0;34m[\u001b[0m\u001b[0mcp5\u001b[0m\u001b[0;34m]\u001b[0m\u001b[0;34m)\u001b[0m\u001b[0;34m\u001b[0m\u001b[0;34m\u001b[0m\u001b[0m\n\u001b[0m",
            "\u001b[0;32m/usr/local/lib/python3.7/dist-packages/keras/engine/training.py\u001b[0m in \u001b[0;36mfit\u001b[0;34m(self, x, y, batch_size, epochs, verbose, callbacks, validation_split, validation_data, shuffle, class_weight, sample_weight, initial_epoch, steps_per_epoch, validation_steps, validation_batch_size, validation_freq, max_queue_size, workers, use_multiprocessing)\u001b[0m\n\u001b[1;32m   1182\u001b[0m                 _r=1):\n\u001b[1;32m   1183\u001b[0m               \u001b[0mcallbacks\u001b[0m\u001b[0;34m.\u001b[0m\u001b[0mon_train_batch_begin\u001b[0m\u001b[0;34m(\u001b[0m\u001b[0mstep\u001b[0m\u001b[0;34m)\u001b[0m\u001b[0;34m\u001b[0m\u001b[0;34m\u001b[0m\u001b[0m\n\u001b[0;32m-> 1184\u001b[0;31m               \u001b[0mtmp_logs\u001b[0m \u001b[0;34m=\u001b[0m \u001b[0mself\u001b[0m\u001b[0;34m.\u001b[0m\u001b[0mtrain_function\u001b[0m\u001b[0;34m(\u001b[0m\u001b[0miterator\u001b[0m\u001b[0;34m)\u001b[0m\u001b[0;34m\u001b[0m\u001b[0;34m\u001b[0m\u001b[0m\n\u001b[0m\u001b[1;32m   1185\u001b[0m               \u001b[0;32mif\u001b[0m \u001b[0mdata_handler\u001b[0m\u001b[0;34m.\u001b[0m\u001b[0mshould_sync\u001b[0m\u001b[0;34m:\u001b[0m\u001b[0;34m\u001b[0m\u001b[0;34m\u001b[0m\u001b[0m\n\u001b[1;32m   1186\u001b[0m                 \u001b[0mcontext\u001b[0m\u001b[0;34m.\u001b[0m\u001b[0masync_wait\u001b[0m\u001b[0;34m(\u001b[0m\u001b[0;34m)\u001b[0m\u001b[0;34m\u001b[0m\u001b[0;34m\u001b[0m\u001b[0m\n",
            "\u001b[0;32m/usr/local/lib/python3.7/dist-packages/tensorflow/python/eager/def_function.py\u001b[0m in \u001b[0;36m__call__\u001b[0;34m(self, *args, **kwds)\u001b[0m\n\u001b[1;32m    883\u001b[0m \u001b[0;34m\u001b[0m\u001b[0m\n\u001b[1;32m    884\u001b[0m       \u001b[0;32mwith\u001b[0m \u001b[0mOptionalXlaContext\u001b[0m\u001b[0;34m(\u001b[0m\u001b[0mself\u001b[0m\u001b[0;34m.\u001b[0m\u001b[0m_jit_compile\u001b[0m\u001b[0;34m)\u001b[0m\u001b[0;34m:\u001b[0m\u001b[0;34m\u001b[0m\u001b[0;34m\u001b[0m\u001b[0m\n\u001b[0;32m--> 885\u001b[0;31m         \u001b[0mresult\u001b[0m \u001b[0;34m=\u001b[0m \u001b[0mself\u001b[0m\u001b[0;34m.\u001b[0m\u001b[0m_call\u001b[0m\u001b[0;34m(\u001b[0m\u001b[0;34m*\u001b[0m\u001b[0margs\u001b[0m\u001b[0;34m,\u001b[0m \u001b[0;34m**\u001b[0m\u001b[0mkwds\u001b[0m\u001b[0;34m)\u001b[0m\u001b[0;34m\u001b[0m\u001b[0;34m\u001b[0m\u001b[0m\n\u001b[0m\u001b[1;32m    886\u001b[0m \u001b[0;34m\u001b[0m\u001b[0m\n\u001b[1;32m    887\u001b[0m       \u001b[0mnew_tracing_count\u001b[0m \u001b[0;34m=\u001b[0m \u001b[0mself\u001b[0m\u001b[0;34m.\u001b[0m\u001b[0mexperimental_get_tracing_count\u001b[0m\u001b[0;34m(\u001b[0m\u001b[0;34m)\u001b[0m\u001b[0;34m\u001b[0m\u001b[0;34m\u001b[0m\u001b[0m\n",
            "\u001b[0;32m/usr/local/lib/python3.7/dist-packages/tensorflow/python/eager/def_function.py\u001b[0m in \u001b[0;36m_call\u001b[0;34m(self, *args, **kwds)\u001b[0m\n\u001b[1;32m    915\u001b[0m       \u001b[0;31m# In this case we have created variables on the first call, so we run the\u001b[0m\u001b[0;34m\u001b[0m\u001b[0;34m\u001b[0m\u001b[0;34m\u001b[0m\u001b[0m\n\u001b[1;32m    916\u001b[0m       \u001b[0;31m# defunned version which is guaranteed to never create variables.\u001b[0m\u001b[0;34m\u001b[0m\u001b[0;34m\u001b[0m\u001b[0;34m\u001b[0m\u001b[0m\n\u001b[0;32m--> 917\u001b[0;31m       \u001b[0;32mreturn\u001b[0m \u001b[0mself\u001b[0m\u001b[0;34m.\u001b[0m\u001b[0m_stateless_fn\u001b[0m\u001b[0;34m(\u001b[0m\u001b[0;34m*\u001b[0m\u001b[0margs\u001b[0m\u001b[0;34m,\u001b[0m \u001b[0;34m**\u001b[0m\u001b[0mkwds\u001b[0m\u001b[0;34m)\u001b[0m  \u001b[0;31m# pylint: disable=not-callable\u001b[0m\u001b[0;34m\u001b[0m\u001b[0;34m\u001b[0m\u001b[0m\n\u001b[0m\u001b[1;32m    918\u001b[0m     \u001b[0;32melif\u001b[0m \u001b[0mself\u001b[0m\u001b[0;34m.\u001b[0m\u001b[0m_stateful_fn\u001b[0m \u001b[0;32mis\u001b[0m \u001b[0;32mnot\u001b[0m \u001b[0;32mNone\u001b[0m\u001b[0;34m:\u001b[0m\u001b[0;34m\u001b[0m\u001b[0;34m\u001b[0m\u001b[0m\n\u001b[1;32m    919\u001b[0m       \u001b[0;31m# Release the lock early so that multiple threads can perform the call\u001b[0m\u001b[0;34m\u001b[0m\u001b[0;34m\u001b[0m\u001b[0;34m\u001b[0m\u001b[0m\n",
            "\u001b[0;32m/usr/local/lib/python3.7/dist-packages/tensorflow/python/eager/function.py\u001b[0m in \u001b[0;36m__call__\u001b[0;34m(self, *args, **kwargs)\u001b[0m\n\u001b[1;32m   3038\u001b[0m        filtered_flat_args) = self._maybe_define_function(args, kwargs)\n\u001b[1;32m   3039\u001b[0m     return graph_function._call_flat(\n\u001b[0;32m-> 3040\u001b[0;31m         filtered_flat_args, captured_inputs=graph_function.captured_inputs)  # pylint: disable=protected-access\n\u001b[0m\u001b[1;32m   3041\u001b[0m \u001b[0;34m\u001b[0m\u001b[0m\n\u001b[1;32m   3042\u001b[0m   \u001b[0;34m@\u001b[0m\u001b[0mproperty\u001b[0m\u001b[0;34m\u001b[0m\u001b[0;34m\u001b[0m\u001b[0m\n",
            "\u001b[0;32m/usr/local/lib/python3.7/dist-packages/tensorflow/python/eager/function.py\u001b[0m in \u001b[0;36m_call_flat\u001b[0;34m(self, args, captured_inputs, cancellation_manager)\u001b[0m\n\u001b[1;32m   1962\u001b[0m       \u001b[0;31m# No tape is watching; skip to running the function.\u001b[0m\u001b[0;34m\u001b[0m\u001b[0;34m\u001b[0m\u001b[0;34m\u001b[0m\u001b[0m\n\u001b[1;32m   1963\u001b[0m       return self._build_call_outputs(self._inference_function.call(\n\u001b[0;32m-> 1964\u001b[0;31m           ctx, args, cancellation_manager=cancellation_manager))\n\u001b[0m\u001b[1;32m   1965\u001b[0m     forward_backward = self._select_forward_and_backward_functions(\n\u001b[1;32m   1966\u001b[0m         \u001b[0margs\u001b[0m\u001b[0;34m,\u001b[0m\u001b[0;34m\u001b[0m\u001b[0;34m\u001b[0m\u001b[0m\n",
            "\u001b[0;32m/usr/local/lib/python3.7/dist-packages/tensorflow/python/eager/function.py\u001b[0m in \u001b[0;36mcall\u001b[0;34m(self, ctx, args, cancellation_manager)\u001b[0m\n\u001b[1;32m    594\u001b[0m               \u001b[0minputs\u001b[0m\u001b[0;34m=\u001b[0m\u001b[0margs\u001b[0m\u001b[0;34m,\u001b[0m\u001b[0;34m\u001b[0m\u001b[0;34m\u001b[0m\u001b[0m\n\u001b[1;32m    595\u001b[0m               \u001b[0mattrs\u001b[0m\u001b[0;34m=\u001b[0m\u001b[0mattrs\u001b[0m\u001b[0;34m,\u001b[0m\u001b[0;34m\u001b[0m\u001b[0;34m\u001b[0m\u001b[0m\n\u001b[0;32m--> 596\u001b[0;31m               ctx=ctx)\n\u001b[0m\u001b[1;32m    597\u001b[0m         \u001b[0;32melse\u001b[0m\u001b[0;34m:\u001b[0m\u001b[0;34m\u001b[0m\u001b[0;34m\u001b[0m\u001b[0m\n\u001b[1;32m    598\u001b[0m           outputs = execute.execute_with_cancellation(\n",
            "\u001b[0;32m/usr/local/lib/python3.7/dist-packages/tensorflow/python/eager/execute.py\u001b[0m in \u001b[0;36mquick_execute\u001b[0;34m(op_name, num_outputs, inputs, attrs, ctx, name)\u001b[0m\n\u001b[1;32m     58\u001b[0m     \u001b[0mctx\u001b[0m\u001b[0;34m.\u001b[0m\u001b[0mensure_initialized\u001b[0m\u001b[0;34m(\u001b[0m\u001b[0;34m)\u001b[0m\u001b[0;34m\u001b[0m\u001b[0;34m\u001b[0m\u001b[0m\n\u001b[1;32m     59\u001b[0m     tensors = pywrap_tfe.TFE_Py_Execute(ctx._handle, device_name, op_name,\n\u001b[0;32m---> 60\u001b[0;31m                                         inputs, attrs, num_outputs)\n\u001b[0m\u001b[1;32m     61\u001b[0m   \u001b[0;32mexcept\u001b[0m \u001b[0mcore\u001b[0m\u001b[0;34m.\u001b[0m\u001b[0m_NotOkStatusException\u001b[0m \u001b[0;32mas\u001b[0m \u001b[0me\u001b[0m\u001b[0;34m:\u001b[0m\u001b[0;34m\u001b[0m\u001b[0;34m\u001b[0m\u001b[0m\n\u001b[1;32m     62\u001b[0m     \u001b[0;32mif\u001b[0m \u001b[0mname\u001b[0m \u001b[0;32mis\u001b[0m \u001b[0;32mnot\u001b[0m \u001b[0;32mNone\u001b[0m\u001b[0;34m:\u001b[0m\u001b[0;34m\u001b[0m\u001b[0;34m\u001b[0m\u001b[0m\n",
            "\u001b[0;31mKeyboardInterrupt\u001b[0m: "
          ]
        }
      ],
      "source": [
        "model5.fit(X3_train, y3_train, validation_data=(X3_val, y3_val), epochs=10, callbacks=[cp5])"
      ]
    },
    {
      "cell_type": "code",
      "execution_count": null,
      "metadata": {
        "id": "zi3EglPHZTeX"
      },
      "outputs": [],
      "source": [
        "def plot_predictions2(model, X, y, start=0, end=100):\n",
        "  predictions = model.predict(X)\n",
        "  p_preds, temp_preds = predictions[:, 0], predictions[:, 1]\n",
        "  p_actuals, temp_actuals = y[:, 0], y[:, 1]\n",
        "  df = pd.DataFrame(data={'Temperature Predictions': temp_preds,\n",
        "                          'Temperature Actuals':temp_actuals,\n",
        "                          'Pressure Predictions': p_preds,\n",
        "                          'Pressure Actuals': p_actuals\n",
        "                          })\n",
        "  plt.plot(df['Temperature Predictions'][start:end])\n",
        "  plt.plot(df['Temperature Actuals'][start:end])\n",
        "  plt.plot(df['Pressure Predictions'][start:end])\n",
        "  plt.plot(df['Pressure Actuals'][start:end])\n",
        "  return df"
      ]
    },
    {
      "cell_type": "code",
      "execution_count": null,
      "metadata": {
        "colab": {
          "base_uri": "https://localhost:8080/",
          "height": 665
        },
        "id": "0i-aCfgVZC9L",
        "outputId": "fb268b8f-ce83-4251-84c5-5c3728135323"
      },
      "outputs": [
        {
          "data": {
            "text/html": [
              "<div>\n",
              "<style scoped>\n",
              "    .dataframe tbody tr th:only-of-type {\n",
              "        vertical-align: middle;\n",
              "    }\n",
              "\n",
              "    .dataframe tbody tr th {\n",
              "        vertical-align: top;\n",
              "    }\n",
              "\n",
              "    .dataframe thead th {\n",
              "        text-align: right;\n",
              "    }\n",
              "</style>\n",
              "<table border=\"1\" class=\"dataframe\">\n",
              "  <thead>\n",
              "    <tr style=\"text-align: right;\">\n",
              "      <th></th>\n",
              "      <th>Temperature Predictions</th>\n",
              "      <th>Temperature Actuals</th>\n",
              "      <th>Pressure Predictions</th>\n",
              "      <th>Pressure Actuals</th>\n",
              "    </tr>\n",
              "  </thead>\n",
              "  <tbody>\n",
              "    <tr>\n",
              "      <th>0</th>\n",
              "      <td>0.497261</td>\n",
              "      <td>0.412451</td>\n",
              "      <td>-0.939157</td>\n",
              "      <td>-0.793439</td>\n",
              "    </tr>\n",
              "    <tr>\n",
              "      <th>1</th>\n",
              "      <td>0.473668</td>\n",
              "      <td>0.353683</td>\n",
              "      <td>-0.892772</td>\n",
              "      <td>-0.763123</td>\n",
              "    </tr>\n",
              "    <tr>\n",
              "      <th>2</th>\n",
              "      <td>0.458037</td>\n",
              "      <td>0.323123</td>\n",
              "      <td>-0.859892</td>\n",
              "      <td>-0.721893</td>\n",
              "    </tr>\n",
              "    <tr>\n",
              "      <th>3</th>\n",
              "      <td>0.467024</td>\n",
              "      <td>0.250251</td>\n",
              "      <td>-0.840133</td>\n",
              "      <td>-0.652773</td>\n",
              "    </tr>\n",
              "    <tr>\n",
              "      <th>4</th>\n",
              "      <td>0.488601</td>\n",
              "      <td>0.254952</td>\n",
              "      <td>-0.823547</td>\n",
              "      <td>-0.652773</td>\n",
              "    </tr>\n",
              "    <tr>\n",
              "      <th>...</th>\n",
              "      <td>...</td>\n",
              "      <td>...</td>\n",
              "      <td>...</td>\n",
              "      <td>...</td>\n",
              "    </tr>\n",
              "    <tr>\n",
              "      <th>5079</th>\n",
              "      <td>-0.917703</td>\n",
              "      <td>-1.222477</td>\n",
              "      <td>1.712903</td>\n",
              "      <td>1.601508</td>\n",
              "    </tr>\n",
              "    <tr>\n",
              "      <th>5080</th>\n",
              "      <td>-0.988455</td>\n",
              "      <td>-1.271843</td>\n",
              "      <td>1.652463</td>\n",
              "      <td>1.506923</td>\n",
              "    </tr>\n",
              "    <tr>\n",
              "      <th>5081</th>\n",
              "      <td>-1.087464</td>\n",
              "      <td>-1.430516</td>\n",
              "      <td>1.593468</td>\n",
              "      <td>1.481458</td>\n",
              "    </tr>\n",
              "    <tr>\n",
              "      <th>5082</th>\n",
              "      <td>-1.219868</td>\n",
              "      <td>-1.446971</td>\n",
              "      <td>1.541024</td>\n",
              "      <td>1.415976</td>\n",
              "    </tr>\n",
              "    <tr>\n",
              "      <th>5083</th>\n",
              "      <td>-1.350580</td>\n",
              "      <td>-1.569209</td>\n",
              "      <td>1.492155</td>\n",
              "      <td>1.350494</td>\n",
              "    </tr>\n",
              "  </tbody>\n",
              "</table>\n",
              "<p>5084 rows × 4 columns</p>\n",
              "</div>"
            ],
            "text/plain": [
              "      Temperature Predictions  ...  Pressure Actuals\n",
              "0                    0.497261  ...         -0.793439\n",
              "1                    0.473668  ...         -0.763123\n",
              "2                    0.458037  ...         -0.721893\n",
              "3                    0.467024  ...         -0.652773\n",
              "4                    0.488601  ...         -0.652773\n",
              "...                       ...  ...               ...\n",
              "5079                -0.917703  ...          1.601508\n",
              "5080                -0.988455  ...          1.506923\n",
              "5081                -1.087464  ...          1.481458\n",
              "5082                -1.219868  ...          1.415976\n",
              "5083                -1.350580  ...          1.350494\n",
              "\n",
              "[5084 rows x 4 columns]"
            ]
          },
          "execution_count": 67,
          "metadata": {},
          "output_type": "execute_result"
        },
        {
          "data": {
            "image/png": "[encoded data removed]",
            "text/plain": [
              "<Figure size 432x288 with 1 Axes>"
            ]
          },
          "metadata": {
            "needs_background": "light"
          },
          "output_type": "display_data"
        }
      ],
      "source": [
        "plot_predictions2(model5, X3_test, y3_test)"
      ]
    },
    {
      "cell_type": "code",
      "execution_count": null,
      "metadata": {
        "id": "_3biL9urbmdB"
      },
      "outputs": [],
      "source": [
        "def postprocess_temp(arr):\n",
        "  arr = (arr*temp_training_std3) + temp_training_mean3\n",
        "  return arr\n",
        "\n",
        "def postprocess_p(arr):\n",
        "  arr = (arr*p_training_std3) + p_training_mean3\n",
        "  return arr"
      ]
    },
    {
      "cell_type": "code",
      "execution_count": null,
      "metadata": {
        "id": "6aZSDhgjcbtI"
      },
      "outputs": [],
      "source": [
        "def get_predictions_postprocessed(model, X, y):\n",
        "  predictions = model.predict(X)\n",
        "  p_preds, temp_preds = postprocess_p(predictions[:, 0]), postprocess_temp(predictions[:, 1])\n",
        "  p_actuals, temp_actuals = postprocess_p(y[:, 0]), postprocess_temp(y[:, 1])\n",
        "  df = pd.DataFrame(data={'Temperature Predictions': temp_preds,\n",
        "                          'Temperature Actuals':temp_actuals,\n",
        "                          'Pressure Predictions': p_preds,\n",
        "                          'Pressure Actuals': p_actuals\n",
        "                          })\n",
        "  return df"
      ]
    },
    {
      "cell_type": "code",
      "execution_count": null,
      "metadata": {
        "colab": {
          "base_uri": "https://localhost:8080/",
          "height": 417
        },
        "id": "dKO-Y5lCcT9P",
        "outputId": "8c401492-495a-4ae8-dc55-287307939f81"
      },
      "outputs": [
        {
          "data": {
            "text/html": [
              "<div>\n",
              "<style scoped>\n",
              "    .dataframe tbody tr th:only-of-type {\n",
              "        vertical-align: middle;\n",
              "    }\n",
              "\n",
              "    .dataframe tbody tr th {\n",
              "        vertical-align: top;\n",
              "    }\n",
              "\n",
              "    .dataframe thead th {\n",
              "        text-align: right;\n",
              "    }\n",
              "</style>\n",
              "<table border=\"1\" class=\"dataframe\">\n",
              "  <thead>\n",
              "    <tr style=\"text-align: right;\">\n",
              "      <th></th>\n",
              "      <th>Temperature Predictions</th>\n",
              "      <th>Temperature Actuals</th>\n",
              "      <th>Pressure Predictions</th>\n",
              "      <th>Pressure Actuals</th>\n",
              "    </tr>\n",
              "  </thead>\n",
              "  <tbody>\n",
              "    <tr>\n",
              "      <th>0</th>\n",
              "      <td>13.651567</td>\n",
              "      <td>12.93</td>\n",
              "      <td>981.228333</td>\n",
              "      <td>982.43</td>\n",
              "    </tr>\n",
              "    <tr>\n",
              "      <th>1</th>\n",
              "      <td>13.450840</td>\n",
              "      <td>12.43</td>\n",
              "      <td>981.610901</td>\n",
              "      <td>982.68</td>\n",
              "    </tr>\n",
              "    <tr>\n",
              "      <th>2</th>\n",
              "      <td>13.317848</td>\n",
              "      <td>12.17</td>\n",
              "      <td>981.882019</td>\n",
              "      <td>983.02</td>\n",
              "    </tr>\n",
              "    <tr>\n",
              "      <th>3</th>\n",
              "      <td>13.394308</td>\n",
              "      <td>11.55</td>\n",
              "      <td>982.044983</td>\n",
              "      <td>983.59</td>\n",
              "    </tr>\n",
              "    <tr>\n",
              "      <th>4</th>\n",
              "      <td>13.577888</td>\n",
              "      <td>11.59</td>\n",
              "      <td>982.181763</td>\n",
              "      <td>983.59</td>\n",
              "    </tr>\n",
              "    <tr>\n",
              "      <th>...</th>\n",
              "      <td>...</td>\n",
              "      <td>...</td>\n",
              "      <td>...</td>\n",
              "      <td>...</td>\n",
              "    </tr>\n",
              "    <tr>\n",
              "      <th>5079</th>\n",
              "      <td>1.613030</td>\n",
              "      <td>-0.98</td>\n",
              "      <td>1003.098633</td>\n",
              "      <td>1002.18</td>\n",
              "    </tr>\n",
              "    <tr>\n",
              "      <th>5080</th>\n",
              "      <td>1.011069</td>\n",
              "      <td>-1.40</td>\n",
              "      <td>1002.600220</td>\n",
              "      <td>1001.40</td>\n",
              "    </tr>\n",
              "    <tr>\n",
              "      <th>5081</th>\n",
              "      <td>0.168693</td>\n",
              "      <td>-2.75</td>\n",
              "      <td>1002.113708</td>\n",
              "      <td>1001.19</td>\n",
              "    </tr>\n",
              "    <tr>\n",
              "      <th>5082</th>\n",
              "      <td>-0.957798</td>\n",
              "      <td>-2.89</td>\n",
              "      <td>1001.681274</td>\n",
              "      <td>1000.65</td>\n",
              "    </tr>\n",
              "    <tr>\n",
              "      <th>5083</th>\n",
              "      <td>-2.069902</td>\n",
              "      <td>-3.93</td>\n",
              "      <td>1001.278259</td>\n",
              "      <td>1000.11</td>\n",
              "    </tr>\n",
              "  </tbody>\n",
              "</table>\n",
              "<p>5084 rows × 4 columns</p>\n",
              "</div>"
            ],
            "text/plain": [
              "      Temperature Predictions  ...  Pressure Actuals\n",
              "0                   13.651567  ...            982.43\n",
              "1                   13.450840  ...            982.68\n",
              "2                   13.317848  ...            983.02\n",
              "3                   13.394308  ...            983.59\n",
              "4                   13.577888  ...            983.59\n",
              "...                       ...  ...               ...\n",
              "5079                 1.613030  ...           1002.18\n",
              "5080                 1.011069  ...           1001.40\n",
              "5081                 0.168693  ...           1001.19\n",
              "5082                -0.957798  ...           1000.65\n",
              "5083                -2.069902  ...           1000.11\n",
              "\n",
              "[5084 rows x 4 columns]"
            ]
          },
          "execution_count": 70,
          "metadata": {},
          "output_type": "execute_result"
        }
      ],
      "source": [
        "post_processed_df = get_predictions_postprocessed(model5, X3_test, y3_test)\n",
        "post_processed_df"
      ]
    },
    {
      "cell_type": "code",
      "execution_count": null,
      "metadata": {
        "colab": {
          "base_uri": "https://localhost:8080/",
          "height": 282
        },
        "id": "7KIoImWHLv7O",
        "outputId": "e31a6d59-d68b-4c89-e2b3-6ddf4f7f53bb"
      },
      "outputs": [
        {
          "data": {
            "text/plain": [
              "[<matplotlib.lines.Line2D at 0x7fd1642e5550>]"
            ]
          },
          "execution_count": 71,
          "metadata": {},
          "output_type": "execute_result"
        },
        {
          "data": {
            "image/png": "[encoded data removed]",
            "text/plain": [
              "<Figure size 432x288 with 1 Axes>"
            ]
          },
          "metadata": {
            "needs_background": "light"
          },
          "output_type": "display_data"
        }
      ],
      "source": [
        "start, end = 0, 100\n",
        "plt.plot(post_processed_df['Temperature Predictions'][start:end])\n",
        "plt.plot(post_processed_df['Temperature Actuals'][start:end])"
      ]
    },
    {
      "cell_type": "code",
      "execution_count": null,
      "metadata": {
        "colab": {
          "base_uri": "https://localhost:8080/",
          "height": 282
        },
        "id": "w9qLd1KrL5kT",
        "outputId": "d74125b8-9859-4316-c7ff-a4112f45b370"
      },
      "outputs": [
        {
          "data": {
            "text/plain": [
              "[<matplotlib.lines.Line2D at 0x7fd16429a5d0>]"
            ]
          },
          "execution_count": 72,
          "metadata": {},
          "output_type": "execute_result"
        },
        {
          "data": {
            "image/png": "[encoded data removed]",
            "text/plain": [
              "<Figure size 432x288 with 1 Axes>"
            ]
          },
          "metadata": {
            "needs_background": "light"
          },
          "output_type": "display_data"
        }
      ],
      "source": [
        "plt.plot(post_processed_df['Pressure Predictions'][start:end])\n",
        "plt.plot(post_processed_df['Pressure Actuals'][start:end])"
      ]
    },
    {
      "cell_type": "code",
      "execution_count": null,
      "metadata": {
        "colab": {
          "base_uri": "https://localhost:8080/"
        },
        "id": "DkCeXZOMcuaV",
        "outputId": "b019c760-eb96-45da-dab6-03b0b86fc93e"
      },
      "outputs": [
        {
          "name": "stdout",
          "output_type": "stream",
          "text": [
            "Model: \"sequential_7\"\n",
            "_________________________________________________________________\n",
            "Layer (type)                 Output Shape              Param #   \n",
            "=================================================================\n",
            "lstm_4 (LSTM)                (None, 7, 32)             4992      \n",
            "_________________________________________________________________\n",
            "lstm_5 (LSTM)                (None, 16)                3136      \n",
            "_________________________________________________________________\n",
            "dense_14 (Dense)             (None, 8)                 136       \n",
            "_________________________________________________________________\n",
            "dense_15 (Dense)             (None, 2)                 18        \n",
            "=================================================================\n",
            "Total params: 8,282\n",
            "Trainable params: 8,282\n",
            "Non-trainable params: 0\n",
            "_________________________________________________________________\n"
          ]
        }
      ],
      "source": [
        "model6 = Sequential()\n",
        "model6.add(InputLayer((7, 6)))\n",
        "model6.add(LSTM(32, return_sequences=True))\n",
        "model6.add(LSTM(16))\n",
        "model6.add(Dense(8, 'relu'))\n",
        "model6.add(Dense(2, 'linear'))\n",
        "\n",
        "model6.summary()"
      ]
    },
    {
      "cell_type": "code",
      "execution_count": null,
      "metadata": {
        "id": "p0nbK--mdmAz"
      },
      "outputs": [],
      "source": [
        "cp6 = ModelCheckpoint('model6/', save_best_only=True)\n",
        "model6.compile(loss=MeanSquaredError(), optimizer=Adam(learning_rate=0.0001), metrics=[RootMeanSquaredError()])"
      ]
    },
    {
      "cell_type": "code",
      "execution_count": null,
      "metadata": {},
      "outputs": [],
      "source": [
        "model6.fit(X3_train, y3_train, validation_data=(X3_val, y3_val), epochs=10, callbacks=[cp6])"
      ]
    },
    {
      "cell_type": "code",
      "execution_count": null,
      "metadata": {
        "colab": {
          "base_uri": "https://localhost:8080/"
        },
        "id": "pJ6iH7IReqyw",
        "outputId": "236b4ce2-71b5-4387-f875-52ebbfd405a3"
      },
      "outputs": [
        {
          "name": "stdout",
          "output_type": "stream",
          "text": [
            "Model: \"sequential_9\"\n",
            "_________________________________________________________________\n",
            "Layer (type)                 Output Shape              Param #   \n",
            "=================================================================\n",
            "conv1d_3 (Conv1D)            (None, 6, 64)             832       \n",
            "_________________________________________________________________\n",
            "flatten_3 (Flatten)          (None, 384)               0         \n",
            "_________________________________________________________________\n",
            "dense_18 (Dense)             (None, 8)                 3080      \n",
            "_________________________________________________________________\n",
            "dense_19 (Dense)             (None, 2)                 18        \n",
            "=================================================================\n",
            "Total params: 3,930\n",
            "Trainable params: 3,930\n",
            "Non-trainable params: 0\n",
            "_________________________________________________________________\n"
          ]
        }
      ],
      "source": [
        "model7 = Sequential()\n",
        "model7.add(InputLayer((7, 6)))\n",
        "model7.add(Conv1D(64, kernel_size=2, activation='relu'))\n",
        "model7.add(Flatten())\n",
        "model7.add(Dense(8, 'relu'))\n",
        "model7.add(Dense(2, 'linear'))\n",
        "model7.summary()"
      ]
    },
    {
      "cell_type": "code",
      "execution_count": null,
      "metadata": {
        "id": "5Lu1RTuHTQIN"
      },
      "outputs": [],
      "source": [
        "cp7 = ModelCheckpoint('model6/', save_best_only=True)\n",
        "model7.compile(loss=MeanSquaredError(), optimizer=Adam(learning_rate=0.0001), metrics=[RootMeanSquaredError()])"
      ]
    },
    {
      "cell_type": "code",
      "execution_count": null,
      "metadata": {
        "colab": {
          "base_uri": "https://localhost:8080/"
        },
        "id": "y3Tp1QAMTUcf",
        "outputId": "f2640996-b9a3-422b-b9c3-203b9ae82dfe"
      },
      "outputs": [
        {
          "name": "stdout",
          "output_type": "stream",
          "text": [
            "Epoch 1/10\n",
            "1875/1875 [==============================] - 4s 2ms/step - loss: 0.0984 - root_mean_squared_error: 0.3136 - val_loss: 0.0216 - val_root_mean_squared_error: 0.1471\n",
            "INFO:tensorflow:Assets written to: model6/assets\n"
          ]
        },
        {
          "name": "stderr",
          "output_type": "stream",
          "text": [
            "INFO:tensorflow:Assets written to: model6/assets\n"
          ]
        },
        {
          "name": "stdout",
          "output_type": "stream",
          "text": [
            "Epoch 2/10\n",
            "1875/1875 [==============================] - 4s 2ms/step - loss: 0.0143 - root_mean_squared_error: 0.1196 - val_loss: 0.0098 - val_root_mean_squared_error: 0.0988\n",
            "INFO:tensorflow:Assets written to: model6/assets\n"
          ]
        },
        {
          "name": "stderr",
          "output_type": "stream",
          "text": [
            "INFO:tensorflow:Assets written to: model6/assets\n"
          ]
        },
        {
          "name": "stdout",
          "output_type": "stream",
          "text": [
            "Epoch 3/10\n",
            "1875/1875 [==============================] - 3s 2ms/step - loss: 0.0092 - root_mean_squared_error: 0.0959 - val_loss: 0.0072 - val_root_mean_squared_error: 0.0849\n",
            "INFO:tensorflow:Assets written to: model6/assets\n"
          ]
        },
        {
          "name": "stderr",
          "output_type": "stream",
          "text": [
            "INFO:tensorflow:Assets written to: model6/assets\n"
          ]
        },
        {
          "name": "stdout",
          "output_type": "stream",
          "text": [
            "Epoch 4/10\n",
            "1875/1875 [==============================] - 4s 2ms/step - loss: 0.0076 - root_mean_squared_error: 0.0873 - val_loss: 0.0059 - val_root_mean_squared_error: 0.0770\n",
            "INFO:tensorflow:Assets written to: model6/assets\n"
          ]
        },
        {
          "name": "stderr",
          "output_type": "stream",
          "text": [
            "INFO:tensorflow:Assets written to: model6/assets\n"
          ]
        },
        {
          "name": "stdout",
          "output_type": "stream",
          "text": [
            "Epoch 5/10\n",
            "1875/1875 [==============================] - 4s 2ms/step - loss: 0.0069 - root_mean_squared_error: 0.0828 - val_loss: 0.0054 - val_root_mean_squared_error: 0.0734\n",
            "INFO:tensorflow:Assets written to: model6/assets\n"
          ]
        },
        {
          "name": "stderr",
          "output_type": "stream",
          "text": [
            "INFO:tensorflow:Assets written to: model6/assets\n"
          ]
        },
        {
          "name": "stdout",
          "output_type": "stream",
          "text": [
            "Epoch 6/10\n",
            "1875/1875 [==============================] - 4s 2ms/step - loss: 0.0064 - root_mean_squared_error: 0.0800 - val_loss: 0.0050 - val_root_mean_squared_error: 0.0710\n",
            "INFO:tensorflow:Assets written to: model6/assets\n"
          ]
        },
        {
          "name": "stderr",
          "output_type": "stream",
          "text": [
            "INFO:tensorflow:Assets written to: model6/assets\n"
          ]
        },
        {
          "name": "stdout",
          "output_type": "stream",
          "text": [
            "Epoch 7/10\n",
            "1875/1875 [==============================] - 4s 2ms/step - loss: 0.0061 - root_mean_squared_error: 0.0782 - val_loss: 0.0047 - val_root_mean_squared_error: 0.0687\n",
            "INFO:tensorflow:Assets written to: model6/assets\n"
          ]
        },
        {
          "name": "stderr",
          "output_type": "stream",
          "text": [
            "INFO:tensorflow:Assets written to: model6/assets\n"
          ]
        },
        {
          "name": "stdout",
          "output_type": "stream",
          "text": [
            "Epoch 8/10\n",
            "1875/1875 [==============================] - 4s 2ms/step - loss: 0.0059 - root_mean_squared_error: 0.0768 - val_loss: 0.0047 - val_root_mean_squared_error: 0.0689\n",
            "Epoch 9/10\n",
            "1875/1875 [==============================] - 4s 2ms/step - loss: 0.0057 - root_mean_squared_error: 0.0757 - val_loss: 0.0045 - val_root_mean_squared_error: 0.0670\n",
            "INFO:tensorflow:Assets written to: model6/assets\n"
          ]
        },
        {
          "name": "stderr",
          "output_type": "stream",
          "text": [
            "INFO:tensorflow:Assets written to: model6/assets\n"
          ]
        },
        {
          "name": "stdout",
          "output_type": "stream",
          "text": [
            "Epoch 10/10\n",
            "1875/1875 [==============================] - 4s 2ms/step - loss: 0.0056 - root_mean_squared_error: 0.0749 - val_loss: 0.0044 - val_root_mean_squared_error: 0.0661\n",
            "INFO:tensorflow:Assets written to: model6/assets\n"
          ]
        },
        {
          "name": "stderr",
          "output_type": "stream",
          "text": [
            "INFO:tensorflow:Assets written to: model6/assets\n"
          ]
        },
        {
          "data": {
            "text/plain": [
              "<keras.callbacks.History at 0x7fd16383a9d0>"
            ]
          },
          "execution_count": 81,
          "metadata": {},
          "output_type": "execute_result"
        }
      ],
      "source": [
        "model7.fit(X3_train, y3_train, validation_data=(X3_val, y3_val), epochs=10, callbacks=[cp7])"
      ]
    }
  ],
  "metadata": {
    "colab": {
      "provenance": []
    },
    "kernelspec": {
      "display_name": "tf15",
      "language": "python",
      "name": "python3"
    },
    "language_info": {
      "codemirror_mode": {
        "name": "ipython",
        "version": 3
      },
      "file_extension": ".py",
      "mimetype": "text/x-python",
      "name": "python",
      "nbconvert_exporter": "python",
      "pygments_lexer": "ipython3",
      "version": "3.11.10"
    }
  },
  "nbformat": 4,
  "nbformat_minor": 0
}
